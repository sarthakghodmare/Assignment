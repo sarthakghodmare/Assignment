{
 "cells": [
  {
   "cell_type": "code",
   "execution_count": null,
   "id": "c1eb8092-8271-4467-8f94-e2181a11b9b0",
   "metadata": {},
   "outputs": [],
   "source": [
    "Q1.How do you comment code in Python? What are the different types of comments?\n",
    "soln:There are two common way  to comment out in python.\n",
    "1.Single Line Comment: Prefix each line with Hash symbol(#).\n",
    "2.Multi Line comment:Enclose The code within Triple Quotes.(either single Quote  ''' ''') or (double quote \"\"\" \"\"\")."
   ]
  },
  {
   "cell_type": "code",
   "execution_count": null,
   "id": "c3824231-f653-47a2-b4a0-b304a2c2da4c",
   "metadata": {},
   "outputs": [],
   "source": [
    "Q2.What are variables in Python? How do you declare and assign values to variables?\n",
    "soln: In Python  variables are simple container to storing data values.\n",
    "  Python has no command to declare Variables .A variables is created when some values assigned to it.The values assigned to a variables \n",
    "  determines the data type of the variables. \n"
   ]
  },
  {
   "cell_type": "code",
   "execution_count": 12,
   "id": "a2468755-998f-41e8-bfcd-ed7dd5ae84d4",
   "metadata": {},
   "outputs": [],
   "source": [
    "a=10;"
   ]
  },
  {
   "cell_type": "code",
   "execution_count": 13,
   "id": "83fd1fd6-fe73-4dce-8026-9c0b22beb6c0",
   "metadata": {},
   "outputs": [
    {
     "data": {
      "text/plain": [
       "int"
      ]
     },
     "execution_count": 13,
     "metadata": {},
     "output_type": "execute_result"
    }
   ],
   "source": [
    "type(a)"
   ]
  },
  {
   "cell_type": "code",
   "execution_count": null,
   "id": "3f94e66b-e8d8-42f2-ae2e-0e3368246020",
   "metadata": {},
   "outputs": [],
   "source": [
    "Q3. How do you convert one data type to another in Python?\n",
    "soln:There are two type conversion in python.\n",
    "1.Implicit Type Conversion\n",
    "python interpreter automatically convert one data type into another without any user involvement. No data loss\n",
    "2.explicit Type Conversion\n",
    "Python interpreter manually convert one data type into another With User involvemnet as per the requirment. risk of data loss\n"
   ]
  },
  {
   "cell_type": "code",
   "execution_count": 1,
   "id": "e14295cb-cd66-4844-8f12-bfef47d5fed1",
   "metadata": {},
   "outputs": [
    {
     "name": "stdout",
     "output_type": "stream",
     "text": [
      "33.1\n"
     ]
    }
   ],
   "source": [
    "x=10;#implicit conversion. \n",
    "y=23.1;\n",
    "z=x+y;\n",
    "print(z)\n"
   ]
  },
  {
   "cell_type": "code",
   "execution_count": 7,
   "id": "645d3f37-17f0-40c1-bc34-f817d02ba23d",
   "metadata": {},
   "outputs": [
    {
     "name": "stdout",
     "output_type": "stream",
     "text": [
      "printing type of string  <class 'str'>\n",
      "printing type of string  <class 'int'>\n",
      "25\n",
      "<class 'int'>\n"
     ]
    }
   ],
   "source": [
    "num_string='12';#explicit convesrion.\n",
    "num_int=13;\n",
    "print(\"printing type of string \",type(num_string))\n",
    "#explicit type conversion\n",
    "num_string=int(num_string)\n",
    "print(\"printing type of string \",type(num_string))\n",
    "\n",
    "sum=num_int+num_string;\n",
    "print(sum)\n",
    "print(type(sum))"
   ]
  },
  {
   "cell_type": "code",
   "execution_count": null,
   "id": "8fa95bf2-95f7-4b20-b895-8c640a50c6f2",
   "metadata": {},
   "outputs": [],
   "source": [
    "Q4. How do you write and execute a Python script from the command line?\n",
    "soln:python is well_know high level programming language. The python script is file contaning python-written code.\n",
    "the file containg python script  has the extension '.py' or also have the extension, '.pvw' if it is run on window 10 machine\n",
    ".There is various method to run python script.\n",
    "1.Interactive mode.\n",
    "2.command line.\n",
    "3.Text editor(vs code)\n",
    "4.IDE(pycharm).\n",
    "2.command line.\n",
    "EX1: using script filename \n",
    "To run python in terminal ,store in \".py\" file in the command line.we have to write  the 'python' keyword  before the file name in the \n",
    "command prompt.\n",
    "'python  hello.py'\n"
   ]
  },
  {
   "cell_type": "code",
   "execution_count": null,
   "id": "b92901bc-25d3-4603-9675-3a9e11783a33",
   "metadata": {},
   "outputs": [],
   "source": [
    "Q5. Given a list my_list = [1, 2, 3, 4, 5], write the code to slice the list and obtain the sub-list [2, 3].\n",
    "soln my_list= [1,2,3,4,5]"
   ]
  },
  {
   "cell_type": "code",
   "execution_count": 12,
   "id": "d3824c0d-995d-4c22-90d7-fe5569b11797",
   "metadata": {},
   "outputs": [],
   "source": [
    "my_list= [1,2,3,4,5]\n",
    "sub_list=(my_list[1:3:])"
   ]
  },
  {
   "cell_type": "code",
   "execution_count": 13,
   "id": "140d4360-0831-4df4-85fb-13fc00ca4c32",
   "metadata": {},
   "outputs": [
    {
     "data": {
      "text/plain": [
       "[2, 3]"
      ]
     },
     "execution_count": 13,
     "metadata": {},
     "output_type": "execute_result"
    }
   ],
   "source": [
    "sub_list\n"
   ]
  },
  {
   "cell_type": "code",
   "execution_count": null,
   "id": "a428b494-e911-44ce-873c-e5d1c643443e",
   "metadata": {},
   "outputs": [],
   "source": [
    "Q6.What is a complex number in mathematics, and how is it represented in Python?\n",
    "soln:converting real number to complex number .an complex number is represted by\"x+yi\",python convert the real number x and y into\n",
    "complex using the function(x,y).The real part can be accesed  using the function real().imaginery part can be access by functiom imaginery()."
   ]
  },
  {
   "cell_type": "code",
   "execution_count": 14,
   "id": "d40b0f25-2166-4e10-9750-de4caf4b9750",
   "metadata": {},
   "outputs": [
    {
     "data": {
      "text/plain": [
       "(3+4j)"
      ]
     },
     "execution_count": 14,
     "metadata": {},
     "output_type": "execute_result"
    }
   ],
   "source": [
    "3+4j\n"
   ]
  },
  {
   "cell_type": "code",
   "execution_count": 20,
   "id": "94efc932-2a83-412b-bb52-4ff00f28e201",
   "metadata": {},
   "outputs": [
    {
     "data": {
      "text/plain": [
       "3.0"
      ]
     },
     "execution_count": 20,
     "metadata": {},
     "output_type": "execute_result"
    }
   ],
   "source": [
    "(3+4j).real\n",
    "      "
   ]
  },
  {
   "cell_type": "code",
   "execution_count": 21,
   "id": "6643c73a-9196-40be-b01b-ef4d5834684f",
   "metadata": {},
   "outputs": [
    {
     "data": {
      "text/plain": [
       "4.0"
      ]
     },
     "execution_count": 21,
     "metadata": {},
     "output_type": "execute_result"
    }
   ],
   "source": [
    "(3+4j).imag"
   ]
  },
  {
   "cell_type": "code",
   "execution_count": null,
   "id": "fdc0dbfc-5e08-4234-b175-abb0ff48f24c",
   "metadata": {},
   "outputs": [],
   "source": [
    "Q7. What is the correct way to declare a variable named age and assign the value 25 to it?"
   ]
  },
  {
   "cell_type": "code",
   "execution_count": 30,
   "id": "e48f66f5-a5b7-47c3-9969-23597fcd1f42",
   "metadata": {},
   "outputs": [],
   "source": [
    "soln:age=25\n"
   ]
  },
  {
   "cell_type": "code",
   "execution_count": 23,
   "id": "09738ce2-a441-4657-ac98-d229a5df8159",
   "metadata": {},
   "outputs": [],
   "source": [
    "Q8. Declare a variable named price and assign the value 9.99 to it. What data type does this variable\n",
    "belong to?"
   ]
  },
  {
   "cell_type": "code",
   "execution_count": 29,
   "id": "b8a35946-5ba2-44eb-9646-14e5ae1bd18d",
   "metadata": {},
   "outputs": [
    {
     "name": "stdout",
     "output_type": "stream",
     "text": [
      "<class 'float'>\n"
     ]
    }
   ],
   "source": [
    "soln:price=9.99\n",
    "\n",
    "print(type(price))"
   ]
  },
  {
   "cell_type": "code",
   "execution_count": null,
   "id": "a73cbfc4-9d33-4f5a-9ad6-93886580343e",
   "metadata": {},
   "outputs": [],
   "source": [
    "Q9. Create a variable named name and assign your full name to it as a string. How would you print the\n",
    "value of this variable?"
   ]
  },
  {
   "cell_type": "code",
   "execution_count": 31,
   "id": "12ea9e7c-a166-4eac-ba0f-c190e290dd0c",
   "metadata": {},
   "outputs": [
    {
     "name": "stdout",
     "output_type": "stream",
     "text": [
      "sarthak\n"
     ]
    }
   ],
   "source": [
    "name=\"sarthak\"\n",
    "print(name)\n"
   ]
  },
  {
   "cell_type": "code",
   "execution_count": null,
   "id": "dc78a6df-4f62-4426-a0b6-7a6d7e229b0a",
   "metadata": {},
   "outputs": [],
   "source": [
    "Q10. Given the string \"Hello, World!\", extract the substring \"World\"."
   ]
  },
  {
   "cell_type": "code",
   "execution_count": 40,
   "id": "9a98cdf5-9639-4cba-8ba6-e92ece93dae9",
   "metadata": {},
   "outputs": [],
   "source": [
    "soln:s= \"Hello,World!\""
   ]
  },
  {
   "cell_type": "code",
   "execution_count": 44,
   "id": "80ab0b80-3782-49a0-8d64-96ff1b578ea0",
   "metadata": {},
   "outputs": [
    {
     "data": {
      "text/plain": [
       "'World'"
      ]
     },
     "execution_count": 44,
     "metadata": {},
     "output_type": "execute_result"
    }
   ],
   "source": [
    "s [6:11]"
   ]
  },
  {
   "cell_type": "code",
   "execution_count": 45,
   "id": "3db48005-6c3a-4997-b230-d6875dfb8370",
   "metadata": {},
   "outputs": [],
   "source": [
    "substring=(s [6:11])\n"
   ]
  },
  {
   "cell_type": "code",
   "execution_count": 47,
   "id": "316c75d8-aecb-47f4-8538-2f8a6b708b68",
   "metadata": {},
   "outputs": [
    {
     "data": {
      "text/plain": [
       "'World'"
      ]
     },
     "execution_count": 47,
     "metadata": {},
     "output_type": "execute_result"
    }
   ],
   "source": [
    "substring"
   ]
  },
  {
   "cell_type": "code",
   "execution_count": null,
   "id": "5d4c9424-cd21-4c60-b0ee-84e2959ba713",
   "metadata": {},
   "outputs": [],
   "source": [
    "Q11. Create a variable named \"is_student\" and assign it a boolean value indicating whether you are\n",
    "currently a student or not."
   ]
  },
  {
   "cell_type": "code",
   "execution_count": 65,
   "id": "09064231-d359-4127-83fa-e1cd97c13948",
   "metadata": {},
   "outputs": [
    {
     "name": "stdin",
     "output_type": "stream",
     "text": [
      "enter yor input True\n"
     ]
    },
    {
     "name": "stdout",
     "output_type": "stream",
     "text": [
      "You are student\n"
     ]
    }
   ],
   "source": [
    "is_student= bool(input(\"enter yor input\"))\n",
    "if is_student == True:\n",
    "    print(\"You are student\")\n",
    "else:\n",
    "    print(\"You are not student\")\n",
    "\n"
   ]
  },
  {
   "cell_type": "code",
   "execution_count": null,
   "id": "da52777d-3d12-45f0-8295-4a57f53a06e6",
   "metadata": {},
   "outputs": [],
   "source": []
  },
  {
   "cell_type": "code",
   "execution_count": null,
   "id": "ce1a24ca-c0f0-4d66-9c59-200bb23b79fd",
   "metadata": {},
   "outputs": [],
   "source": []
  }
 ],
 "metadata": {
  "kernelspec": {
   "display_name": "Python 3 (ipykernel)",
   "language": "python",
   "name": "python3"
  },
  "language_info": {
   "codemirror_mode": {
    "name": "ipython",
    "version": 3
   },
   "file_extension": ".py",
   "mimetype": "text/x-python",
   "name": "python",
   "nbconvert_exporter": "python",
   "pygments_lexer": "ipython3",
   "version": "3.10.8"
  }
 },
 "nbformat": 4,
 "nbformat_minor": 5
}
