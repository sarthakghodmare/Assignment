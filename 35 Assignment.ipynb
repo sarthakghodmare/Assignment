{
 "cells": [
  {
   "cell_type": "code",
   "execution_count": null,
   "id": "0a69f1e2-f159-4b8b-a542-5e8efa45f41a",
   "metadata": {},
   "outputs": [],
   "source": [
    "Q1: Explain the following with an example:\n",
    "    1. Artificial Intelligenc\n",
    "    2.Machine Learning,\n",
    "    3. Deep Learning"
   ]
  },
  {
   "cell_type": "code",
   "execution_count": null,
   "id": "47f421f0-24f0-4172-93fb-c581556517ee",
   "metadata": {},
   "outputs": [],
   "source": [
    "soln:\n",
    "Artificial Intelligence (AI): Creating systems that perform tasks needing human-like intelligence.\n",
    "Example: Siri answering your questions.\n",
    "\n",
    "Machine Learning (ML): A type of AI where systems learn from data to make decisions or predictions.\n",
    "Example: Netflix recommending shows based on your viewing history.\n",
    "\n",
    "Deep Learning: A subset of ML using neural networks with many layers to recognize complex patterns.\n",
    "Example: Google Photos automatically tagging people in your photos.\n",
    "\n",
    "\n",
    "\n",
    "\n"
   ]
  },
  {
   "cell_type": "code",
   "execution_count": null,
   "id": "27fd0434-bcff-4100-b63b-477c63215306",
   "metadata": {},
   "outputs": [],
   "source": [
    "Q2: What is supervised learning? List some examples of supervised learning."
   ]
  },
  {
   "cell_type": "code",
   "execution_count": null,
   "id": "87132c20-0ac2-436c-abc3-de141f990d2c",
   "metadata": {},
   "outputs": [],
   "source": [
    "Supervised Learning is a type of machine learning where the model is trained on labeled data. This means that the input data comes with corresponding output labels, and the model learns to map inputs to these outputs. The goal is to make predictions or classify new, unseen data based on the learned patterns\n",
    "\n",
    "\n",
    "Image Classification: Identifying objects in images.\n",
    "Example: Classifying photos as \"cats\" or \"dogs.\"\n",
    "\n",
    "Spam Detection: Filtering out unwanted emails.\n",
    "Example: Classifying emails as \"spam\" or \"not spam.\"\n",
    "\n",
    "Sentiment Analysis: Determining the sentiment of text.\n",
    "Example: Classifying movie reviews as \"positive\" or \"negative.\"\n",
    "\n",
    "Predictive Modeling: Forecasting future values based on historical data.\n",
    "Example: Predicting house prices based on features like size, location, and number of rooms.\n",
    "\n",
    "Speech Recognition: Converting spoken language into text.\n",
    "Example: Transcribing spoken words into written text in voice-to-text applications."
   ]
  },
  {
   "cell_type": "code",
   "execution_count": null,
   "id": "8acdeaf5-2535-4635-aa54-2c7f7b8a3303",
   "metadata": {},
   "outputs": [],
   "source": [
    "Q3: What is unsupervised learning? List some examples of unsupervised learning."
   ]
  },
  {
   "cell_type": "code",
   "execution_count": null,
   "id": "511c0e9c-e7a4-4463-b556-94995df86ba6",
   "metadata": {},
   "outputs": [],
   "source": [
    "Unsupervised Learning is a type of machine learning where the model is trained on data without labeled responses. The goal is to find hidden patterns or structures in the data without pre-defined categories or outcomes."
   ]
  },
  {
   "cell_type": "code",
   "execution_count": null,
   "id": "0be90768-ab4f-4963-a8fd-f0355e2dca7f",
   "metadata": {},
   "outputs": [],
   "source": [
    "Clustering: Grouping similar data points together.\n",
    "Example: Customer segmentation in marketing to identify distinct groups of customers with similar behaviors.\n",
    "\n",
    "Dimensionality Reduction: Reducing the number of features in the data while retaining its essential structure.\n",
    "Example: Principal Component Analysis (PCA) to simplify the dataset while preserving variance for visualization or analysis.\n",
    "\n",
    "Anomaly Detection: Identifying unusual or rare events in the data.\n",
    "Example: Fraud detection in financial transactions by finding transactions that deviate from normal patterns.\n",
    "\n",
    "Association Rule Learning: Discovering relationships between variables in large datasets.\n",
    "Example: Market basket analysis to find items frequently bought together, like \"bread\" and \"butter.\"\n",
    "\n",
    "Density Estimation: Estimating the distribution of data.\n",
    "Example: Modeling the distribution of customer ages to understand purchasing behavior across different age groups.\n",
    "\n"
   ]
  },
  {
   "cell_type": "code",
   "execution_count": null,
   "id": "df13f4de-c810-42a4-9175-4004728687f7",
   "metadata": {},
   "outputs": [],
   "source": [
    "Q4: What is the difference between AI, ML, DL, and DS?"
   ]
  },
  {
   "cell_type": "code",
   "execution_count": null,
   "id": "1e337462-097d-4683-bd6c-8cfc5813582f",
   "metadata": {},
   "outputs": [],
   "source": [
    "Artificial Intelligence (AI):\n",
    "\n",
    "Definition: The broad field of creating systems capable of performing tasks that normally require human intelligence.\n",
    "Scope: Includes various methods and technologies, such as reasoning, learning, and problem-solving.\n",
    "Example: A virtual assistant like Siri.\n",
    "\n",
    "Machine Learning (ML):\n",
    "\n",
    "Definition: A subset of AI focused on algorithms that learn from and make predictions or decisions based on data.\n",
    "Scope: Involves training models using data to recognize patterns and make predictions.\n",
    "Example: Netflix recommending shows based on viewing history.\n",
    "\n",
    "Deep Learning (DL):\n",
    "\n",
    "Definition: A subset of ML that uses neural networks with many layers (deep networks) to model complex patterns in large datasets.\n",
    "Scope: Specializes in handling intricate data patterns, particularly in image, audio, and text processing.\n",
    "Example: Google Photos identifying objects or people in images.\n",
    "\n",
    "Data Science (DS):\n",
    "\n",
    "Definition: A broader field that combines statistics, data analysis, and machine learning to extract insights and knowledge from data.\n",
    "Scope: Involves data collection, cleaning, analysis, and interpretation to inform decision-making and solve problems.\n",
    "Example: Analyzing sales data to identify trends and predict future sales.   "
   ]
  },
  {
   "cell_type": "code",
   "execution_count": null,
   "id": "bcc1f12e-5c69-4c41-bd65-b6ca8d78611b",
   "metadata": {},
   "outputs": [],
   "source": [
    "Q5: What are the main differences between supervised, unsupervised, and semi-supervised learning?"
   ]
  },
  {
   "cell_type": "code",
   "execution_count": null,
   "id": "13d495fc-72ef-44ca-8c0e-53851184ee1f",
   "metadata": {},
   "outputs": [],
   "source": [
    "Supervised Learning:\n",
    "\n",
    "Data: Uses labeled data (input-output pairs).\n",
    "Goal: Train a model to predict or classify new data based on learned patterns.\n",
    "Example: Classifying emails as \"spam\" or \"not spam.\"\n",
    "\n",
    "Unsupervised Learning:\n",
    "\n",
    "Data: Uses unlabeled data (only input data without corresponding outputs).\n",
    "Goal: Find hidden patterns, groupings, or structures in the data.\n",
    "Example: Grouping customers into segments based on purchasing behavior.\n",
    "\n",
    "Semi-Supervised Learning:\n",
    "\n",
    "Data: Uses a mix of labeled and unlabeled data.\n",
    "Goal: Improve learning accuracy by leveraging a small amount of labeled data and a large amount of unlabeled data.\n",
    "Example: Image classification where only a few images are labeled, but many unlabeled images are available for training.\n"
   ]
  },
  {
   "cell_type": "code",
   "execution_count": null,
   "id": "f986a74a-dae5-430e-9e4a-74f36495a29c",
   "metadata": {},
   "outputs": [],
   "source": [
    "Q6: What is train, test and validation split? Explain the importance of each term."
   ]
  },
  {
   "cell_type": "code",
   "execution_count": null,
   "id": "65a9af88-8840-4239-a52b-f1a6daae7560",
   "metadata": {},
   "outputs": [],
   "source": [
    "Training Set:\n",
    "\n",
    "Definition: The subset of data used to train the model. The model learns patterns and relationships from this data.\n",
    "Importance: The quality and quantity of this data directly affect the model's ability to learn and generalize from the data. If the training data is insufficient or biased, the model may perform poorly.\n",
    "\n",
    "Validation Set:\n",
    "\n",
    "Definition: A separate subset of data used to tune and optimize the model’s parameters and hyperparameters. It helps in evaluating the model's performance during training.\n",
    "Importance: Helps in preventing overfitting by allowing adjustments to the model based on performance metrics. It provides a way to assess how well the model generalizes to unseen data during training.\n",
    "\n",
    "Test Set:\n",
    "\n",
    "Definition: A final subset of data used to evaluate the model’s performance after training and validation. It is not used during training or validation.\n",
    "Importance: Provides an unbiased estimate of how well the model performs on completely unseen data. It helps to understand the model’s effectiveness and generalization capability in real-world scenarios.\n",
    "\n"
   ]
  },
  {
   "cell_type": "code",
   "execution_count": null,
   "id": "43f0fc2f-fde9-4fa3-b00b-18405b8ac61c",
   "metadata": {},
   "outputs": [],
   "source": [
    "Q7: How can unsupervised learning be used in anomaly detection?"
   ]
  },
  {
   "cell_type": "code",
   "execution_count": null,
   "id": "41b50f9e-d742-43d5-9460-d6c8b1d18b01",
   "metadata": {},
   "outputs": [],
   "source": [
    "Clustering-Based: Groups data points; anomalies are those far from clusters.\n",
    "Example: Unusual transactions in financial data.\n",
    "\n",
    "Density-Based: Identifies points in low-density regions as anomalies.\n",
    "Example: Rare sensor readings.\n",
    "\n",
    "Dimensionality Reduction-Based: Flags points that deviate significantly in reduced dimensions.\n",
    "Example: Unusual customer behavior patterns.\n",
    "\n",
    "Autoencoders-Based: Detects anomalies based on high reconstruction errors.\n",
    "Example: Anomalous network traffic."
   ]
  },
  {
   "cell_type": "code",
   "execution_count": null,
   "id": "2c27c002-f5f6-4ea9-8798-e3f01945288e",
   "metadata": {},
   "outputs": [],
   "source": [
    "Q8: List down some commonly used supervised learning algorithms and unsupervised learning\n",
    "algorithms."
   ]
  },
  {
   "cell_type": "code",
   "execution_count": null,
   "id": "a8b282af-2996-49ce-9e42-5f37d43a914b",
   "metadata": {},
   "outputs": [],
   "source": [
    ".Supervised Learning Algorithms:\n",
    "Linear Regression: Predicts continuous values based on linear relationships between variables.\n",
    "Example: Predicting house prices.\n",
    "\n",
    "Logistic Regression: Classifies data into binary outcomes based on linear combinations of input features.\n",
    "Example: Email spam classification.\n",
    "\n",
    "Decision Trees: Models decisions based on feature values, using a tree-like structure of decisions and their possible consequences.\n",
    "Example: Classifying customer churn.\n",
    "\n",
    "Random Forest: An ensemble of decision trees that improves accuracy by averaging the results of multiple trees.\n",
    "Example: Predicting loan default.\n",
    "\n",
    "Support Vector Machines (SVM): Finds the optimal boundary (hyperplane) that separates classes in the feature space.\n",
    "Example: Image classification.\n",
    "\n",
    "k-Nearest Neighbors (k-NN): Classifies data points based on the majority class among its k-nearest neighbors.\n",
    "Example: Recommending products.\n",
    "\n",
    "Neural Networks: Complex models inspired by the human brain, capable of learning intricate patterns.\n",
    "Example: Speech recognition.\n",
    "\n",
    "Gradient Boosting Machines (GBM): An ensemble method that builds models sequentially to correct errors of previous models.\n",
    "Example: Predicting customer conversion.\n",
    "\n",
    "\n",
    ".Unsupervised Learning Algorithms:\n",
    "\n",
    "k-Means Clustering: Groups data into k clusters based on similarity.\n",
    "Example: Customer segmentation.\n",
    "\n",
    "Hierarchical Clustering: Creates a tree-like structure of nested clusters.\n",
    "Example: Organizing hierarchical data or taxonomy.\n",
    "\n",
    "DBSCAN (Density-Based Spatial Clustering of Applications with Noise): Clusters data based on density, identifying outliers as noise.\n",
    "Example: Identifying regions of interest in spatial data.\n",
    "\n",
    "Principal Component Analysis (PCA): Reduces dimensionality by projecting data onto principal components that explain most variance.\n",
    "Example: Simplifying datasets for visualization.\n",
    "\n",
    "t-Distributed Stochastic Neighbor Embedding (t-SNE): Reduces dimensionality for visualization by preserving local data structure.\n",
    "Example: Visualizing high-dimensional data.\n",
    "\n",
    "Autoencoders: Neural networks used for unsupervised learning to encode data into a lower-dimensional space and then reconstruct it.\n",
    "Example: Anomaly detection in data.\n",
    "\n",
    "Isolation Forest: An algorithm for detecting anomalies by isolating data points in a tree structure.\n",
    "Example: Detecting fraud in financial transactions.\n",
    "\n",
    "Gaussian Mixture Models (GMM): Models data as a mixture of several Gaussian distributions.\n",
    "Example: Image segmentation."
   ]
  }
 ],
 "metadata": {
  "kernelspec": {
   "display_name": "Python 3 (ipykernel)",
   "language": "python",
   "name": "python3"
  },
  "language_info": {
   "codemirror_mode": {
    "name": "ipython",
    "version": 3
   },
   "file_extension": ".py",
   "mimetype": "text/x-python",
   "name": "python",
   "nbconvert_exporter": "python",
   "pygments_lexer": "ipython3",
   "version": "3.10.8"
  }
 },
 "nbformat": 4,
 "nbformat_minor": 5
}
