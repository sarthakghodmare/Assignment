{
 "cells": [
  {
   "cell_type": "code",
   "execution_count": null,
   "id": "1a82f6e6-24ca-4824-b920-8070ac727663",
   "metadata": {},
   "outputs": [],
   "source": [
    "Q1. Explain Class and Object with respect to Object-Oriented Programming. Give a suitable example."
   ]
  },
  {
   "cell_type": "code",
   "execution_count": null,
   "id": "329de862-55c9-4a92-a683-bb64088c12a2",
   "metadata": {},
   "outputs": [],
   "source": [
    "soln:class:In object programming language,class is a blueprint or template to creting object.it defines the properties (attributes) and behaviours(methods) that object of a class have.\n",
    "\n",
    "object:object is an instance of class,it is concrete entity that exists in memory and has it own state (attributes) and behavior (method) as defined by class."
   ]
  },
  {
   "cell_type": "code",
   "execution_count": 14,
   "id": "f632ad85-a567-4e5c-97f5-41aade331a18",
   "metadata": {},
   "outputs": [],
   "source": [
    "class pwskills:\n",
    "    def welcome_msg(self):\n",
    "        print(\"welcme to pw skills\")"
   ]
  },
  {
   "cell_type": "code",
   "execution_count": 15,
   "id": "e12bc195-0301-49f6-976e-b5f915e3ab1f",
   "metadata": {},
   "outputs": [],
   "source": [
    "sarthak=pwskills() #sarthak is variable of class pwskills, it is object"
   ]
  },
  {
   "cell_type": "code",
   "execution_count": 16,
   "id": "fb52ea61-6220-45c1-9c56-34b6e229cf9f",
   "metadata": {},
   "outputs": [
    {
     "name": "stdout",
     "output_type": "stream",
     "text": [
      "welcme to pw skills\n"
     ]
    }
   ],
   "source": [
    "sarthak.welcome_msg()#function call"
   ]
  },
  {
   "cell_type": "code",
   "execution_count": 5,
   "id": "17d15e9d-8620-4da8-8125-17e512bee716",
   "metadata": {},
   "outputs": [
    {
     "data": {
      "text/plain": [
       "(12334, 'ET21036', 'sarthak@gmail.com')"
      ]
     },
     "execution_count": 5,
     "metadata": {},
     "output_type": "execute_result"
    }
   ],
   "source": [
    "sarthak.return_student_details()\n"
   ]
  },
  {
   "cell_type": "code",
   "execution_count": null,
   "id": "fb3dc7bb-67fe-45a7-8886-6a7da6e8992b",
   "metadata": {},
   "outputs": [],
   "source": [
    "Q2. Name the four pillars of OOPs.\n",
    "\n",
    "soln:The four pillars of object-oriented programming (OOP) are encapsulation, abstraction, inheritance, and polymorphism."
   ]
  },
  {
   "cell_type": "code",
   "execution_count": null,
   "id": "43bd2894-323a-421c-badf-91ed7ae96407",
   "metadata": {},
   "outputs": [],
   "source": [
    "Q3. Explain why the __init__() function is used. Give a suitable example.\n",
    "soln: The __init__() function is a special method.(also know as constructor.that is automatically called when a new instance of a class is created. It's used to initialize the object's attributes or perform any setup necessary before the object is ready for use."
   ]
  },
  {
   "cell_type": "code",
   "execution_count": 8,
   "id": "001300c6-9c3e-46c0-9598-d3b381b6e152",
   "metadata": {},
   "outputs": [],
   "source": [
    "class pwsills1: \n",
    "    def  __init__(self,phone_number,student_id,email_id):\n",
    "        self.phone_number=phone_number\n",
    "        self.student_id=student_id\n",
    "        self.email_id=email_id \n",
    "    def return_student_details(self):#creting return function\n",
    "        return self.phone_number,self.student_id, self.email_id"
   ]
  },
  {
   "cell_type": "code",
   "execution_count": 9,
   "id": "8f212655-25b1-4323-b65b-aa450b13f45c",
   "metadata": {},
   "outputs": [],
   "source": [
    "sarthak = pwsills1(12334,\"ET21036\",\"sarthak@gmail.com\") #creting object"
   ]
  },
  {
   "cell_type": "code",
   "execution_count": 10,
   "id": "49d1c435-1be8-4424-891a-7ec00fd79082",
   "metadata": {},
   "outputs": [
    {
     "data": {
      "text/plain": [
       "'sarthak@gmail.com'"
      ]
     },
     "execution_count": 10,
     "metadata": {},
     "output_type": "execute_result"
    }
   ],
   "source": [
    "sarthak.email_id"
   ]
  },
  {
   "cell_type": "code",
   "execution_count": 11,
   "id": "baf2b192-fef3-44b9-b754-5baf2f75a3c4",
   "metadata": {},
   "outputs": [
    {
     "data": {
      "text/plain": [
       "(12334, 'ET21036', 'sarthak@gmail.com')"
      ]
     },
     "execution_count": 11,
     "metadata": {},
     "output_type": "execute_result"
    }
   ],
   "source": [
    "sarthak.return_student_details()"
   ]
  },
  {
   "cell_type": "code",
   "execution_count": null,
   "id": "4c7cec18-72de-457c-91df-fd60e5f0d663",
   "metadata": {},
   "outputs": [],
   "source": [
    "Q4. Why self is used in OOPs?\n",
    "soln:Self represents the instance of the class. By using the “self”  we can access the attributes and methods of the class in Python. It binds the attributes with the given arguments. The reason you need to use self. is because Python does not use the @ syntax to refer to instance attributes"
   ]
  },
  {
   "cell_type": "code",
   "execution_count": null,
   "id": "73c00daa-b067-4c1a-9e41-9bac33e7872d",
   "metadata": {},
   "outputs": [],
   "source": [
    "Q5. What is inheritance? Give an example for each type of inheritance.\n",
    "soln:Inheritance is method by which child class is derived from base class.There are 5 type of inheritance.\n",
    "Single Inheritance: The child class is derived from parent class is called Single Inheritance.\n",
    "Multiple Inheritance: The child class is derived from more than one class is called Multiple Inheritance.\n",
    "Multilevel Inheritance :The child class is derived from parent class and parent class is grandparent class.is called Multilevel Inheritance\n",
    "\n"
   ]
  }
 ],
 "metadata": {
  "kernelspec": {
   "display_name": "Python 3 (ipykernel)",
   "language": "python",
   "name": "python3"
  },
  "language_info": {
   "codemirror_mode": {
    "name": "ipython",
    "version": 3
   },
   "file_extension": ".py",
   "mimetype": "text/x-python",
   "name": "python",
   "nbconvert_exporter": "python",
   "pygments_lexer": "ipython3",
   "version": "3.10.8"
  }
 },
 "nbformat": 4,
 "nbformat_minor": 5
}
