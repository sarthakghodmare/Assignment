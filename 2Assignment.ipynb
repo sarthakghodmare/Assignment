{
 "cells": [
  {
   "cell_type": "code",
   "execution_count": null,
   "id": "df23302c-9362-4289-b0c0-3eaeae984feb",
   "metadata": {},
   "outputs": [],
   "source": [
    "Q1. Which keyword is used to create a function? Create a function to return a list of odd numbers in the\n",
    "range of 1 to 25.\n",
    "soln: def function is used to crete a function."
   ]
  },
  {
   "cell_type": "code",
   "execution_count": 34,
   "id": "4518eb4c-92ca-4ae7-8541-fcd104f47e28",
   "metadata": {},
   "outputs": [],
   "source": [
    "def odd_num(x):\n",
    "    l = []\n",
    "    for i in range(1, 26):\n",
    "           if i%2 != 0:\n",
    "                  l.append(i)\n",
    "    return l\n",
    "\n",
    "            \n",
    "      \n",
    " \n",
    "        \n",
    "    \n",
    "    \n",
    "    "
   ]
  },
  {
   "cell_type": "code",
   "execution_count": 35,
   "id": "9cc07faa-9eac-4595-8b47-1e2546476d23",
   "metadata": {},
   "outputs": [
    {
     "data": {
      "text/plain": [
       "[1, 3, 5, 7, 9, 11, 13, 15, 17, 19, 21, 23, 25]"
      ]
     },
     "execution_count": 35,
     "metadata": {},
     "output_type": "execute_result"
    }
   ],
   "source": [
    "odd_num(l)\n"
   ]
  },
  {
   "cell_type": "code",
   "execution_count": null,
   "id": "9b17e27e-d68d-4f12-8320-ee3b9a30a7fd",
   "metadata": {},
   "outputs": [],
   "source": [
    "Q2. Why *args and **kwargs is used in some functions? Create a function each for *args and **kwargs\n",
    "to demonstrate their use.\n",
    "soln:args(*) (non keyword argument),It is special syntax in fuctions defintion used to declare a variable number of argument .used to pass non_keyword,variable list argument list.IT is tuple type.\n",
    "**kwargs It is specail syntax in function definition  used to declare keyword argument,It is a dict type."
   ]
  },
  {
   "cell_type": "code",
   "execution_count": 40,
   "id": "314ac6c3-bbee-4aa3-8203-d4117820b2e4",
   "metadata": {},
   "outputs": [],
   "source": [
    "def test_function(*args,a):\n",
    "    return args,a\n",
    "    "
   ]
  },
  {
   "cell_type": "code",
   "execution_count": 45,
   "id": "dc17c8be-fde9-4ee5-be7e-cdb2b583211a",
   "metadata": {},
   "outputs": [
    {
     "data": {
      "text/plain": [
       "(1, 2, 3, 10)"
      ]
     },
     "execution_count": 45,
     "metadata": {},
     "output_type": "execute_result"
    }
   ],
   "source": [
    "test_function(1,2,3,a=10)"
   ]
  },
  {
   "cell_type": "code",
   "execution_count": 57,
   "id": "5b1f2448-5fe7-4ce5-8e6a-a97c04a7de45",
   "metadata": {},
   "outputs": [],
   "source": [
    "def test(**kwargs):\n",
    "    return  kwargs"
   ]
  },
  {
   "cell_type": "code",
   "execution_count": 55,
   "id": "ff6b62fb-b3fd-4fd0-b948-de1b5df7b4f2",
   "metadata": {},
   "outputs": [
    {
     "data": {
      "text/plain": [
       "{'name': 'sarthak', 'roll_no': 32}"
      ]
     },
     "execution_count": 55,
     "metadata": {},
     "output_type": "execute_result"
    }
   ],
   "source": [
    "test(name=\"sarthak\",roll_no=32)"
   ]
  },
  {
   "cell_type": "code",
   "execution_count": null,
   "id": "ceb39f39-3a9e-4502-ad3a-0ddd006c2bdb",
   "metadata": {},
   "outputs": [],
   "source": [
    "Q3. What is an iterator in python? Name the method used to initialise the iterator object and the method\n",
    "used for iteration. Use these methods to print the first five elements of the given list [2, 4, 6, 8, 10, 12, 14,\n",
    "16, 18, 20].\n",
    "soln:Iterator is an object  allows you to iterate over colection of data as lists,dict,tuple,set.\n",
    "The python function is used to initialise the iterator object with the help of iter()."
   ]
  },
  {
   "cell_type": "code",
   "execution_count": 67,
   "id": "38895d1a-8825-4b4a-9961-1364ce667e41",
   "metadata": {},
   "outputs": [],
   "source": [
    "l=[2, 4, 6, 8, 10, 12, 14,16, 18, 20]"
   ]
  },
  {
   "cell_type": "code",
   "execution_count": 72,
   "id": "70cca1ba-ee27-45d7-8713-cef5b5181ddc",
   "metadata": {},
   "outputs": [
    {
     "data": {
      "text/plain": [
       "list"
      ]
     },
     "execution_count": 72,
     "metadata": {},
     "output_type": "execute_result"
    }
   ],
   "source": [
    "type(l)\n"
   ]
  },
  {
   "cell_type": "code",
   "execution_count": 75,
   "id": "15a85fc9-3ed1-4af8-8776-83e46f7839ae",
   "metadata": {},
   "outputs": [],
   "source": [
    "l1=iter(l)"
   ]
  },
  {
   "cell_type": "code",
   "execution_count": 77,
   "id": "b9b94b02-3e35-4f65-b4e5-40aa92278ad8",
   "metadata": {},
   "outputs": [
    {
     "data": {
      "text/plain": [
       "[2, 4, 6, 8, 10, 12, 14, 16, 18, 20]"
      ]
     },
     "execution_count": 77,
     "metadata": {},
     "output_type": "execute_result"
    }
   ],
   "source": [
    "l"
   ]
  },
  {
   "cell_type": "code",
   "execution_count": 82,
   "id": "7b1a562f-a6bc-437e-9828-1d6e5255bbb2",
   "metadata": {},
   "outputs": [
    {
     "name": "stdout",
     "output_type": "stream",
     "text": [
      "2\n",
      "4\n",
      "6\n",
      "8\n",
      "10\n",
      "12\n",
      "14\n",
      "16\n",
      "18\n",
      "20\n"
     ]
    }
   ],
   "source": [
    "for i in  l:\n",
    "    print(next(iter(l1)))"
   ]
  },
  {
   "cell_type": "code",
   "execution_count": null,
   "id": "03cd6803-835f-4ce7-94b6-b23b7c0a6e4b",
   "metadata": {},
   "outputs": [],
   "source": [
    "Q4. What is a generator function in python? Why yield keyword is used? Give an example of a generator\n",
    "function.\n",
    "soln:A generator function is define as normal function, it is used to generate the value with the help of yield keywoed."
   ]
  },
  {
   "cell_type": "code",
   "execution_count": 83,
   "id": "2973d30c-70f2-48bd-a411-8ec0a8e6d979",
   "metadata": {},
   "outputs": [],
   "source": [
    "def count_test(n):\n",
    "    count=1\n",
    "    while count <=n:\n",
    "        yield count\n",
    "        count=count+1\n",
    "        \n",
    "    "
   ]
  },
  {
   "cell_type": "code",
   "execution_count": 90,
   "id": "f408ab12-593b-46d6-a8d1-eceee235d38f",
   "metadata": {},
   "outputs": [],
   "source": [
    "c= count_test(10)"
   ]
  },
  {
   "cell_type": "code",
   "execution_count": 91,
   "id": "9cb4fce4-72e6-4e7c-ae2c-d345f7130863",
   "metadata": {},
   "outputs": [
    {
     "name": "stdout",
     "output_type": "stream",
     "text": [
      "1\n",
      "2\n",
      "3\n",
      "4\n",
      "5\n",
      "6\n",
      "7\n",
      "8\n",
      "9\n",
      "10\n"
     ]
    }
   ],
   "source": [
    "for i in c:\n",
    "    print(i)"
   ]
  },
  {
   "cell_type": "code",
   "execution_count": null,
   "id": "895835ab-5e42-47fe-89e3-c1c422dd797d",
   "metadata": {},
   "outputs": [],
   "source": [
    "Q5. Create a generator function for prime numbers less than 1000. Use the next() method to print the\n",
    "first 20 prime numbers.\n",
    "soln:"
   ]
  },
  {
   "cell_type": "code",
   "execution_count": 15,
   "id": "cf072569-cc0a-43b6-8e61-57bc8047aaf2",
   "metadata": {},
   "outputs": [],
   "source": [
    "def test_prime():\n",
    "    primes=[]\n",
    "    for num in range(2,1000):\n",
    "        if all(num % prime != 0  for prime in primes):\n",
    "            primes.append(num)\n",
    "            yield num\n"
   ]
  },
  {
   "cell_type": "code",
   "execution_count": 16,
   "id": "a9e12eea-309a-40e2-b4bb-200eb93ba834",
   "metadata": {},
   "outputs": [],
   "source": [
    "prime_gen = test_prime()#calling\n",
    "\n",
    "    "
   ]
  },
  {
   "cell_type": "code",
   "execution_count": 17,
   "id": "f9c5317c-c48f-4a2b-b2d6-6722f82cefe4",
   "metadata": {},
   "outputs": [
    {
     "name": "stdout",
     "output_type": "stream",
     "text": [
      "2\n",
      "3\n",
      "5\n",
      "7\n",
      "11\n",
      "13\n",
      "17\n",
      "19\n",
      "23\n",
      "29\n",
      "31\n",
      "37\n",
      "41\n",
      "43\n",
      "47\n",
      "53\n",
      "59\n",
      "61\n",
      "67\n",
      "71\n"
     ]
    }
   ],
   "source": [
    "for i in range(20):\n",
    "    print(next(prime_gen))"
   ]
  },
  {
   "cell_type": "code",
   "execution_count": null,
   "id": "95c82765-1e8c-4b72-bb3f-379cbef65c3c",
   "metadata": {},
   "outputs": [],
   "source": [
    "Q6. Write a python program to print the first 10 Fibonacci numbers using a while loop."
   ]
  },
  {
   "cell_type": "code",
   "execution_count": 112,
   "id": "c34dcf97-9473-4b21-b662-9fb0860e4e26",
   "metadata": {},
   "outputs": [],
   "source": [
    "def test_fib():\n",
    "    a,b=0,1\n",
    "    while True:\n",
    "        yield a\n",
    "        a,b=b,a+b\n",
    "        "
   ]
  },
  {
   "cell_type": "code",
   "execution_count": 113,
   "id": "0f9d57a9-6143-4de6-8562-17e42cf56e0a",
   "metadata": {},
   "outputs": [],
   "source": [
    "fib=test_fib()"
   ]
  },
  {
   "cell_type": "code",
   "execution_count": 114,
   "id": "b9ee95e1-46ef-4938-8775-4ecf8dede891",
   "metadata": {},
   "outputs": [
    {
     "name": "stdout",
     "output_type": "stream",
     "text": [
      "0\n",
      "1\n",
      "1\n",
      "2\n",
      "3\n",
      "5\n",
      "8\n",
      "13\n",
      "21\n",
      "34\n"
     ]
    }
   ],
   "source": [
    "for i in range(10):\n",
    "    print(next(fib))\n",
    "    "
   ]
  },
  {
   "cell_type": "code",
   "execution_count": null,
   "id": "971b1738-0803-464b-8c2a-cb4a3be1424d",
   "metadata": {},
   "outputs": [],
   "source": [
    "Q7. Write a List Comprehension to iterate through the given string: ‘pwskills’.\n",
    "Expected output: ['p', 'w', 's', 'k', 'i', 'l', 'l', 's']"
   ]
  },
  {
   "cell_type": "code",
   "execution_count": 116,
   "id": "5bddbc7f-4f9c-49b5-8f7b-c7a23d327061",
   "metadata": {},
   "outputs": [],
   "source": [
    "s=\"pwskills\""
   ]
  },
  {
   "cell_type": "code",
   "execution_count": 117,
   "id": "d07cbdc4-909d-4aeb-b75b-4594f3c6d66e",
   "metadata": {},
   "outputs": [
    {
     "data": {
      "text/plain": [
       "['P', 'W', 'S', 'K', 'I', 'L', 'L', 'S']"
      ]
     },
     "execution_count": 117,
     "metadata": {},
     "output_type": "execute_result"
    }
   ],
   "source": [
    "list(map(lambda s :s.upper(),s))"
   ]
  },
  {
   "cell_type": "code",
   "execution_count": null,
   "id": "f676de1e-3777-4419-89e6-6a4a053bd925",
   "metadata": {},
   "outputs": [],
   "source": [
    "Q8. Write a python program to check whether a given number is Palindrome or not using a while loop.\n"
   ]
  },
  {
   "cell_type": "code",
   "execution_count": 120,
   "id": "65fab86c-67bd-48d7-843a-f977a7b860e2",
   "metadata": {},
   "outputs": [
    {
     "name": "stdin",
     "output_type": "stream",
     "text": [
      "enter a number: -1\n"
     ]
    },
    {
     "name": "stdout",
     "output_type": "stream",
     "text": [
      "not pallindrome\n"
     ]
    }
   ],
   "source": [
    "def test_pallindrome(num):\n",
    "    original_num= num\n",
    "    reverse_num=0\n",
    "    \n",
    "    while num>0:\n",
    "        reverse_num=reverse_num*10+num%10\n",
    "        num //=10\n",
    "    \n",
    "    return original_num == reverse_num\n",
    "\n",
    "number =int(input(\"enter a number:\"))\n",
    "if test_pallindrome(number):\n",
    "    print(\"pallindrome\")\n",
    "else:\n",
    "    print(\"not pallindrome\")\n",
    "        "
   ]
  },
  {
   "cell_type": "code",
   "execution_count": null,
   "id": "8a96fc27-00c7-4201-8790-cad6228d2f8a",
   "metadata": {},
   "outputs": [],
   "source": [
    "Q9. Write a code to print odd numbers from 1 to 100 using list comprehension.\n",
    "Note: Use a list comprehension to create a list from 1 to 100 and use another List comprehension to filter\n",
    "out odd numbers."
   ]
  },
  {
   "cell_type": "code",
   "execution_count": 168,
   "id": "2e126c1c-442f-4885-a5b7-83cef13bcd49",
   "metadata": {},
   "outputs": [],
   "source": [
    "l=[i for i in range(1,101)]"
   ]
  },
  {
   "cell_type": "code",
   "execution_count": 169,
   "id": "83e9bca6-8a72-4f26-89a2-c35540ecdab8",
   "metadata": {},
   "outputs": [
    {
     "data": {
      "text/plain": [
       "[1,\n",
       " 3,\n",
       " 5,\n",
       " 7,\n",
       " 9,\n",
       " 11,\n",
       " 13,\n",
       " 15,\n",
       " 17,\n",
       " 19,\n",
       " 21,\n",
       " 23,\n",
       " 25,\n",
       " 27,\n",
       " 29,\n",
       " 31,\n",
       " 33,\n",
       " 35,\n",
       " 37,\n",
       " 39,\n",
       " 41,\n",
       " 43,\n",
       " 45,\n",
       " 47,\n",
       " 49,\n",
       " 51,\n",
       " 53,\n",
       " 55,\n",
       " 57,\n",
       " 59,\n",
       " 61,\n",
       " 63,\n",
       " 65,\n",
       " 67,\n",
       " 69,\n",
       " 71,\n",
       " 73,\n",
       " 75,\n",
       " 77,\n",
       " 79,\n",
       " 81,\n",
       " 83,\n",
       " 85,\n",
       " 87,\n",
       " 89,\n",
       " 91,\n",
       " 93,\n",
       " 95,\n",
       " 97,\n",
       " 99]"
      ]
     },
     "execution_count": 169,
     "metadata": {},
     "output_type": "execute_result"
    }
   ],
   "source": [
    "\n",
    "list(filter(lambda x: x%2 != 0 ,l))"
   ]
  },
  {
   "cell_type": "code",
   "execution_count": null,
   "id": "8183c9f0-48f6-40a9-bbfa-475246c72240",
   "metadata": {},
   "outputs": [],
   "source": []
  }
 ],
 "metadata": {
  "kernelspec": {
   "display_name": "Python 3 (ipykernel)",
   "language": "python",
   "name": "python3"
  },
  "language_info": {
   "codemirror_mode": {
    "name": "ipython",
    "version": 3
   },
   "file_extension": ".py",
   "mimetype": "text/x-python",
   "name": "python",
   "nbconvert_exporter": "python",
   "pygments_lexer": "ipython3",
   "version": "3.10.8"
  }
 },
 "nbformat": 4,
 "nbformat_minor": 5
}
