{
 "cells": [
  {
   "cell_type": "code",
   "execution_count": null,
   "id": "4254f2de-250e-4061-af3c-c4094c96bfac",
   "metadata": {},
   "outputs": [],
   "source": [
    "Q1. What are the three measures of central tendency?"
   ]
  },
  {
   "cell_type": "code",
   "execution_count": null,
   "id": "4e97dfbb-8f29-43f1-8d87-a051e3fa01e3",
   "metadata": {},
   "outputs": [],
   "source": [
    "\n",
    "The three measures of central tendency are:\n",
    "\n",
    "Mean: The arithmetic average of all values in a dataset, calculated by summing the values and dividing by the number of values.\n",
    "\n",
    "Median: The middle value in a dataset when the values are arranged in ascending or descending order. If there is an even number of values, it is the average of the two middle values.\n",
    "\n",
    "Mode: The value that appears most frequently in a dataset. There can be one mode, multiple modes, or no mode if no value repeats."
   ]
  },
  {
   "cell_type": "code",
   "execution_count": null,
   "id": "02d550e6-8084-46ba-8125-1c9c9d375ec5",
   "metadata": {},
   "outputs": [],
   "source": [
    "Q2. What is the difference between the mean, median, and mode? How are they used to measure the\n",
    "central tendency of a dataset?\n",
    "soln:\n",
    "    \n",
    "Mean: The average of all values. Useful for symmetric distributions.\n",
    "Example: For 70, 80, 85, 90, the mean is 81.25.\n",
    "\n",
    "Median: The middle value when ordered. Less affected by outliers.\n",
    "Example: For 70, 80, 85, 90, the median is 82.5.\n",
    "\n",
    "Mode: The most frequent value. Useful for identifying common values.\n",
    "Example: For 70, 80, 80, 90, the mode is 80."
   ]
  },
  {
   "cell_type": "code",
   "execution_count": null,
   "id": "405f6fc0-ff85-4880-b1c0-607df833616e",
   "metadata": {},
   "outputs": [],
   "source": [
    "Q3. Measure the three measures of central tendency for the given height data:\n",
    "[178,177,176,177,178.2,178,175,179,180,175,178.9,176.2,177,172.5,178,176.5]"
   ]
  },
  {
   "cell_type": "code",
   "execution_count": 1,
   "id": "bb7eeb66-b1dc-46a5-b4ff-a6eee0e39a0a",
   "metadata": {},
   "outputs": [],
   "source": [
    "height=[178,177,176,177,178.2,178,175,179,180,175,178.9,176.2,177,172.5,178,176.5]"
   ]
  },
  {
   "cell_type": "code",
   "execution_count": 2,
   "id": "f9ea7d78-59f4-42ea-ac90-b53280eaeeb0",
   "metadata": {},
   "outputs": [
    {
     "data": {
      "text/plain": [
       "177.01875"
      ]
     },
     "execution_count": 2,
     "metadata": {},
     "output_type": "execute_result"
    }
   ],
   "source": [
    "#mean()(average)\n",
    "import numpy as np\n",
    "np.mean(height)"
   ]
  },
  {
   "cell_type": "code",
   "execution_count": 3,
   "id": "41a6448e-ad03-4c3b-bfc7-004da6a16b3f",
   "metadata": {},
   "outputs": [
    {
     "data": {
      "text/plain": [
       "177.0"
      ]
     },
     "execution_count": 3,
     "metadata": {},
     "output_type": "execute_result"
    }
   ],
   "source": [
    "np.median(height)"
   ]
  },
  {
   "cell_type": "code",
   "execution_count": 8,
   "id": "1db8e815-27b6-4b21-bb0f-0025b569c386",
   "metadata": {},
   "outputs": [],
   "source": [
    "from scipy import stats"
   ]
  },
  {
   "cell_type": "code",
   "execution_count": 9,
   "id": "d971e96a-1342-4ba1-acbe-d1a42d5c4ce4",
   "metadata": {},
   "outputs": [
    {
     "name": "stderr",
     "output_type": "stream",
     "text": [
      "/tmp/ipykernel_1551/1690947930.py:1: FutureWarning: Unlike other reduction functions (e.g. `skew`, `kurtosis`), the default behavior of `mode` typically preserves the axis it acts along. In SciPy 1.11.0, this behavior will change: the default value of `keepdims` will become False, the `axis` over which the statistic is taken will be eliminated, and the value None will no longer be accepted. Set `keepdims` to True or False to avoid this warning.\n",
      "  stats.mode(height)\n"
     ]
    },
    {
     "data": {
      "text/plain": [
       "ModeResult(mode=array([177.]), count=array([3]))"
      ]
     },
     "execution_count": 9,
     "metadata": {},
     "output_type": "execute_result"
    }
   ],
   "source": [
    "stats.mode(height)"
   ]
  },
  {
   "cell_type": "code",
   "execution_count": null,
   "id": "a8b1c09e-5be7-42d3-90b6-e4d54379e987",
   "metadata": {},
   "outputs": [],
   "source": [
    "Q4. Find the standard deviation for the given data:\n",
    "[178,177,176,177,178.2,178,175,179,180,175,178.9,176.2,177,172.5,178,176.5]"
   ]
  },
  {
   "cell_type": "code",
   "execution_count": null,
   "id": "b14a07b7-bff6-4339-81eb-5ea9f457fa6b",
   "metadata": {},
   "outputs": [],
   "source": [
    "data=[178,177,176,177,178.2,178,175,179,180,175,178.9,176.2,177,172.5,178,176.5]"
   ]
  },
  {
   "cell_type": "code",
   "execution_count": 11,
   "id": "f87ffb2e-2124-49fb-b949-d6ed7814c225",
   "metadata": {},
   "outputs": [
    {
     "data": {
      "text/plain": [
       "1.7885814036548633"
      ]
     },
     "execution_count": 11,
     "metadata": {},
     "output_type": "execute_result"
    }
   ],
   "source": [
    "import numpy as np\n",
    "np.std(height)\n"
   ]
  },
  {
   "cell_type": "code",
   "execution_count": null,
   "id": "298af6eb-2a8b-416d-ba49-2c464902e3d0",
   "metadata": {},
   "outputs": [],
   "source": [
    "Q5. How are measures of dispersion such as range, variance, and standard deviation used to describe\n",
    "the spread of a dataset? Provide an example."
   ]
  },
  {
   "cell_type": "code",
   "execution_count": null,
   "id": "972165f4-a8ee-4e8f-b3a5-6f1c4a4fe31d",
   "metadata": {},
   "outputs": [],
   "source": [
    "1.Range:\n",
    "\n",
    "Definition: The difference between the maximum and minimum values in a dataset.\n",
    "Use: Provides a simple measure of the total spread of the data.\n",
    "Example: For the dataset 5, 8, 12, 15, the range is 15 - 5 = 10.\n",
    "\n",
    "2.Variance:\n",
    "\n",
    "Definition: The average of the squared differences between each value and the mean of the dataset.\n",
    "Use: Measures the degree of dispersion around the mean. It’s in squared units of the data.\n",
    "Example: For the dataset 5, 8, 12, 15, first calculate the mean (10). The variance is the average of [(5-10)², (8-10)², (12-10)², (15-10)²], which is [(25, 4, 4, 25) / 4] = 14.5.\n",
    "\n",
    "3.Standard Deviation:\n",
    "\n",
    "Definition: The square root of the variance. It provides dispersion in the same units as the data.\n",
    "Use: Indicates how much individual data points deviate from the mean on average.\n",
    "Example: For the same dataset, the standard deviation is √14.5 ≈ 3.81."
   ]
  },
  {
   "cell_type": "code",
   "execution_count": null,
   "id": "ac68ebe3-5a00-484d-bf2b-9514ce6f8e48",
   "metadata": {},
   "outputs": [],
   "source": [
    "Q6. What is a Venn diagram?"
   ]
  },
  {
   "cell_type": "code",
   "execution_count": null,
   "id": "ecdc42a8-2d03-48a0-af6c-31897c9c875f",
   "metadata": {},
   "outputs": [],
   "source": [
    "\n",
    "soln:A Venn diagram is a visual tool used to illustrate the relationships between different sets. It consists of overlapping circles or other shapes, where each circle represents a set and the overlaps between circles show how the sets are related."
   ]
  },
  {
   "cell_type": "code",
   "execution_count": null,
   "id": "74c5eab7-e4a3-47d5-b4c4-e249c8caaa48",
   "metadata": {},
   "outputs": [],
   "source": [
    "Q7. For the two given sets A = (2,3,4,5,6,7) & B = (0,2,6,8,10). Find:\n",
    "(i) A B\n",
    "(ii) A ⋃ B"
   ]
  },
  {
   "cell_type": "code",
   "execution_count": null,
   "id": "13804218-04f0-4609-8b50-969450b58569",
   "metadata": {},
   "outputs": [],
   "source": [
    "soln:(i):AnB={2,6}\n",
    "(ii):AuB={0,2,3,4,5,6,7,8,10}\n",
    "\n",
    "\n"
   ]
  },
  {
   "cell_type": "code",
   "execution_count": null,
   "id": "dfcdb60a-2b47-446d-8dc1-3795c3679a0a",
   "metadata": {},
   "outputs": [],
   "source": [
    "Q8. What do you understand about skewness in data?"
   ]
  },
  {
   "cell_type": "code",
   "execution_count": null,
   "id": "680d43eb-06a3-40ec-bf86-95fb3426984e",
   "metadata": {},
   "outputs": [],
   "source": [
    "Skewness refers to the asymmetry in the distribution of data values around the mean. It measures the degree and direction of the departure from a normal distribution, which is symmetrical. Here’s a summary:"
   ]
  },
  {
   "cell_type": "code",
   "execution_count": null,
   "id": "d6aedeac-efc4-45b0-9c2d-4d5620379ece",
   "metadata": {},
   "outputs": [],
   "source": [
    "1.Positive Skew (Right Skew):\n",
    "\n",
    "Definition: The tail on the right side of the distribution is longer or fatter than the left side. Most data values are concentrated on the left.\n",
    "Characteristics: The mean is typically greater than the median.\n",
    "Example: Income distribution often shows positive skew, with a few high incomes stretching the tail to the right.\n",
    "\n",
    "2.Negative Skew (Left Skew):\n",
    "\n",
    "Definition: The tail on the left side is longer or fatter than the right side. Most data values are concentrated on the right.\n",
    "Characteristics: The mean is usually less than the median.\n",
    "Example: Exam scores where most students score high, but a few score very low, showing a longer tail on the left.\n",
    "\n",
    "3.No Skew (Symmetrical Distribution):\n",
    "\n",
    "Definition: The distribution is symmetric, with tails on either side being roughly equal.\n",
    "Characteristics: The mean and median are approximately equal.\n",
    "Example: A normal distribution where the data values are symmetrically distributed around the mean."
   ]
  },
  {
   "cell_type": "code",
   "execution_count": null,
   "id": "b6827bcb-6309-48f5-86fd-07d050b12b7b",
   "metadata": {},
   "outputs": [],
   "source": [
    "Q9. If a data is right skewed then what will be the position of median with respect to mean?"
   ]
  },
  {
   "cell_type": "code",
   "execution_count": null,
   "id": "4f6fc3d0-efdc-4229-a284-49787b4cb4f0",
   "metadata": {},
   "outputs": [],
   "source": [
    "soln:The mean is typically greater than the median.\n",
    "\n",
    "Position of Median with Respect to Mean:\n",
    "\n",
    "Median: The median is less affected by the extreme values in the tail.\n",
    "Mean: The mean is pulled towards the tail on the right side."
   ]
  },
  {
   "cell_type": "code",
   "execution_count": null,
   "id": "e8c55cf6-a446-4e53-91bc-200f6fc6a819",
   "metadata": {},
   "outputs": [],
   "source": [
    "Q10. Explain the difference between covariance and correlation. How are these measures used in\n",
    "statistical analysis?"
   ]
  },
  {
   "cell_type": "code",
   "execution_count": null,
   "id": "6eab31ee-745f-42a7-ade2-f77329fdc084",
   "metadata": {},
   "outputs": [],
   "source": [
    "1.Covariance:\n",
    "\n",
    "Definition: Measures how two variables change together (positive or negative relationship).\n",
    "Units: Not standardized; units are the product of the two variables’ units.\n",
    "Usage: Indicates direction of the relationship.\n",
    "\n",
    "2.Correlation:\n",
    "\n",
    "Definition: Standardizes covariance to measure the strength and direction of a linear relationship, ranging from -1 to +1.\n",
    "Units: Dimensionless; easier to interpret.\n",
    "Usage: Shows the strength and direction of the relationship more clearly."
   ]
  },
  {
   "cell_type": "code",
   "execution_count": null,
   "id": "13063041-238c-46c2-8bd0-5823ade5201a",
   "metadata": {},
   "outputs": [],
   "source": [
    "Q11. What is the formula for calculating the sample mean? Provide an example calculation for a\n",
    "dataset."
   ]
  },
  {
   "attachments": {
    "5548ba10-2223-435a-8b70-03b1a5ef80e3.png": {
     "image/png": "[encoded data removed]"
    }
   },
   "cell_type": "markdown",
   "id": "87d72a62-e046-48fc-aaf9-edcac30efdb2",
   "metadata": {},
   "source": [
    "![image.png](attachment:5548ba10-2223-435a-8b70-03b1a5ef80e3.png)"
   ]
  },
  {
   "cell_type": "code",
   "execution_count": null,
   "id": "6b6b8634-0863-41d5-822b-cc9425f6b2dc",
   "metadata": {},
   "outputs": [],
   "source": [
    "Example Calculation\n",
    "Dataset: 5, 10, 15, 20\n",
    "\n",
    "1.Sum the Observations:\n",
    "\n",
    "5+10+15+20=50\n",
    "\n",
    "\n",
    "2.Count the Number of Observations: n=4\n",
    "\n",
    "3..Apply the Formula:\n",
    "    xbar=50/4=12.5\n",
    "    \n"
   ]
  },
  {
   "cell_type": "code",
   "execution_count": null,
   "id": "5c965d8d-c294-47ce-992d-af8f9e50547c",
   "metadata": {},
   "outputs": [],
   "source": [
    "Q12. For a normal distribution data what is the relationship between its measure of central tendency?"
   ]
  },
  {
   "cell_type": "code",
   "execution_count": null,
   "id": "9fe0a38e-1677-4d7d-b466-b61aac943530",
   "metadata": {},
   "outputs": [],
   "source": [
    "\n",
    "In a normal distribution, the measures of central tendency (mean, median, and mode) are all equal. This is a defining characteristic of a normal distribution, which is symmetric around its center."
   ]
  },
  {
   "cell_type": "code",
   "execution_count": null,
   "id": "b390a727-6672-4697-98d0-dfdb09ca18ab",
   "metadata": {},
   "outputs": [],
   "source": [
    "Relationship:\n",
    "\n",
    ".Mean = Median = Mode\n",
    "\n",
    "Explanation:\n",
    "\n",
    ".Mean: The average of all values in the distribution.\n",
    ".Median: The middle value when the data is ordered.\n",
    ".Mode: The most frequently occurring value.\n",
    "\n",
    "In a perfectly normal distribution:\n",
    "\n",
    ".The mean, median, and mode are located at the same point, which is the center of the distribution.\n",
    ".The distribution is symmetric, meaning that the left and right sides are mirror images of each other, so these measures of central tendency coincide."
   ]
  },
  {
   "cell_type": "code",
   "execution_count": null,
   "id": "4ee8e0e6-a705-4295-b45d-7751deef3390",
   "metadata": {},
   "outputs": [],
   "source": [
    "Q13. How is covariance different from correlation?"
   ]
  },
  {
   "cell_type": "code",
   "execution_count": null,
   "id": "ae84ed07-4491-4325-9702-e555cb84c75e",
   "metadata": {},
   "outputs": [],
   "source": [
    "\n",
    "Covariance:\n",
    "\n",
    "Definition: Measures how two variables change together (positive or negative relationship).\n",
    "Scale: Units depend on the variables; not standardized.\n",
    "Interpretation: Magnitude is less intuitive.\n",
    "\n",
    "Correlation:\n",
    "\n",
    "Definition: Measures the strength and direction of the linear relationship between two variables.\n",
    "Scale: Ranges from -1 to +1; standardized and dimensionless.\n",
    "Interpretation: Easier to interpret due to its standardized range."
   ]
  },
  {
   "cell_type": "code",
   "execution_count": null,
   "id": "c806b845-500d-4bd6-8881-e734d091bffe",
   "metadata": {},
   "outputs": [],
   "source": [
    "Q14. How do outliers affect measures of central tendency and dispersion? Provide an example."
   ]
  },
  {
   "cell_type": "code",
   "execution_count": null,
   "id": "d79a28d0-63c7-4c66-8764-2b4a69bde27e",
   "metadata": {},
   "outputs": [],
   "source": [
    "Outliers affect statistical measures as follows:\n",
    "\n",
    "Mean: Strongly affected; outliers can skew it significantly.\n",
    "Example: In 2, 4, 5, 6, 100, the mean is 23.4, skewed by 100.\n",
    "\n",
    "Median: Less affected; remains closer to the center of the data.\n",
    "Example: In 2, 4, 5, 6, 100, the median is 5, not influenced by 100.\n",
    "\n",
    "Mode: Generally unaffected unless the outlier changes frequency.\n",
    "Example: In 2, 2, 3, 5, 100, the mode is 2, unchanged by 100.\n",
    "\n",
    "Range, Variance, and Standard Deviation: Strongly affected; outliers increase these measures.\n",
    "Example: In 2, 4, 5, 6, 100, the range, variance, and standard deviation are much higher due to 100."
   ]
  }
 ],
 "metadata": {
  "kernelspec": {
   "display_name": "Python 3 (ipykernel)",
   "language": "python",
   "name": "python3"
  },
  "language_info": {
   "codemirror_mode": {
    "name": "ipython",
    "version": 3
   },
   "file_extension": ".py",
   "mimetype": "text/x-python",
   "name": "python",
   "nbconvert_exporter": "python",
   "pygments_lexer": "ipython3",
   "version": "3.10.8"
  }
 },
 "nbformat": 4,
 "nbformat_minor": 5
}
