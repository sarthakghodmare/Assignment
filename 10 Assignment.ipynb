{
 "cells": [
  {
   "cell_type": "code",
   "execution_count": null,
   "id": "ac25a4e2-102c-4139-b0c5-eccda716ba71",
   "metadata": {},
   "outputs": [],
   "source": [
    "Q1. What is multiprocessing in python? Why is it useful?\n",
    "soln:Multiprocessing in pythons allows running multiple process concurrently,each with its own memory space.it helps bypass the global interpreter lock(gil) and fully  utilize multiple cpu cores.\n",
    "\n",
    "1.Parallelism: Executes tasks simultaneously on multiple CPU cores.\n",
    "2.Bypasses GIL: Overcomes threading limitations imposed by the GIL.\n",
    "3.Isolated Memory: Each process has its own memory, reducing risks of data corruption.\n",
    "4.Reliability: Crashes in one process don’t affect others.\n",
    "5.CPU-bound Tasks: Ideal for tasks requiring intensive computation."
   ]
  },
  {
   "cell_type": "code",
   "execution_count": null,
   "id": "cf06ae41-446f-4429-bc12-c276a28cf960",
   "metadata": {},
   "outputs": [],
   "source": [
    "Q2. What are the differences between multiprocessing and multithreading?\n",
    "soln:1. Memory Space\n",
    "\n",
    "Multiprocessing: Each process has its own memory space.\n",
    "Multithreading: Threads share the same memory space.\n",
    "\n",
    "2. CPU Utilization\n",
    "\n",
    "Multiprocessing: Utilizes multiple CPU cores for true parallelism.\n",
    "Multithreading: Limited by the GIL in Python, which restricts parallelism in CPU-bound tasks.\n",
    "\n",
    "3. Performance\n",
    "\n",
    "Multiprocessing: Better for CPU-bound tasks.\n",
    "Multithreading: Better for I/O-bound tasks.\n",
    "\n",
    "4. Complexity\n",
    "\n",
    "Multiprocessing: More complex with higher overhead and separate memory management.\n",
    "Multithreading: Simpler but requires careful synchronization due to shared memory.\n",
    "\n",
    "5. Fault Tolerance\n",
    "\n",
    "Multiprocessing: More fault-tolerant as failures in one process don’t affect others.\n",
    "Multithreading: Less fault-tolerant since failures can impact the entire process.\n",
    "\n",
    "6. Resource Sharing\n",
    "\n",
    "Multiprocessing: Higher overhead for data sharing between processes.\n",
    "Multithreading: Easier and faster data sharing between threads.\n",
    "\n",
    "\n"
   ]
  },
  {
   "cell_type": "code",
   "execution_count": null,
   "id": "588f0fca-c371-4a36-b45b-0d75b233fa6b",
   "metadata": {},
   "outputs": [],
   "source": [
    "Q3. Write a python code to create a process using the multiprocessing module."
   ]
  },
  {
   "cell_type": "code",
   "execution_count": 1,
   "id": "9dce1108-e3aa-4299-a3c1-502dc51f5125",
   "metadata": {},
   "outputs": [
    {
     "name": "stdout",
     "output_type": "stream",
     "text": [
      "Hello from the process!\n",
      "Process has finished executing\n"
     ]
    }
   ],
   "source": [
    "import multiprocessing\n",
    "\n",
    "# Function to run in a separate process\n",
    "def print_message():\n",
    "    print(\"Hello from the process!\")\n",
    "\n",
    "if __name__ == \"__main__\":\n",
    "    # Create a Process object\n",
    "    process = multiprocessing.Process(target=print_message)\n",
    "\n",
    "    # Start the process\n",
    "    process.start()\n",
    "\n",
    "    # Wait for the process to finish\n",
    "    process.join()\n",
    "\n",
    "    print(\"Process has finished executing\")\n"
   ]
  },
  {
   "cell_type": "code",
   "execution_count": null,
   "id": "61958ef0-21f8-447e-8d32-bc5f978fc4b2",
   "metadata": {},
   "outputs": [],
   "source": [
    "Q4. What is a multiprocessing pool in python? Why is it used?\n",
    "A multiprocessing pool is a collection of worker processes managed by the multiprocessing.Pool class to parallelize the execution of tasks.\n",
    "\n",
    "Parallel Processing: Executes tasks concurrently across multiple CPU cores.\n",
    "Task Distribution: Simplifies distributing tasks among multiple processes.\n",
    "Efficiency: Reuses a pool of worker processes, reducing overhead.\n",
    "Ease of Use: Provides a simple API for parallel execution."
   ]
  },
  {
   "cell_type": "code",
   "execution_count": null,
   "id": "3cd9ee1e-021e-4bd5-8389-68302ae2d305",
   "metadata": {},
   "outputs": [],
   "source": [
    "Q5. How can we create a pool of worker processes in python using the multiprocessing module?\n",
    "soln:"
   ]
  },
  {
   "cell_type": "code",
   "execution_count": 2,
   "id": "e559388d-728a-44eb-976b-1c8e32513800",
   "metadata": {},
   "outputs": [
    {
     "name": "stdout",
     "output_type": "stream",
     "text": [
      "Squared numbers: [1, 4, 9, 16, 25]\n"
     ]
    }
   ],
   "source": [
    "import multiprocessing\n",
    "\n",
    "# Function to be executed by worker processes\n",
    "def square(number):\n",
    "    return number ** 2\n",
    "\n",
    "if __name__ == \"__main__\":\n",
    "    # List of numbers to process\n",
    "    numbers = [1, 2, 3, 4, 5]\n",
    "\n",
    "    # Create a Pool with 4 worker processes\n",
    "    with multiprocessing.Pool(processes=4) as pool:\n",
    "        # Distribute the task of squaring numbers among the pool of workers\n",
    "        results = pool.map(square, numbers)\n",
    "\n",
    "    # Print the results\n",
    "    print(\"Squared numbers:\", results)\n"
   ]
  },
  {
   "cell_type": "code",
   "execution_count": null,
   "id": "bef600b9-0c57-4eab-8c5d-a5bb6358a440",
   "metadata": {},
   "outputs": [],
   "source": [
    "Q6. Write a python program to create 4 processes, each process should print a different number using the\n",
    "multiprocessing module in python."
   ]
  },
  {
   "cell_type": "code",
   "execution_count": 3,
   "id": "3c12483a-7fa2-46fe-8e3a-771ee5116195",
   "metadata": {},
   "outputs": [
    {
     "name": "stdout",
     "output_type": "stream",
     "text": [
      "Number from process: 1\n",
      "Number from process: 2\n",
      "Number from process: 3\n",
      "Number from process: 4\n",
      "All processes have finished executing.\n"
     ]
    }
   ],
   "source": [
    "import multiprocessing\n",
    "\n",
    "# Function to print a specific number\n",
    "def print_number(number):\n",
    "    print(f\"Number from process: {number}\")\n",
    "\n",
    "if __name__ == \"__main__\":\n",
    "    # List of numbers to print\n",
    "    numbers = [1, 2, 3, 4]\n",
    "\n",
    "    # Create and start a process for each number\n",
    "    processes = []\n",
    "    for number in numbers:\n",
    "        process = multiprocessing.Process(target=print_number, args=(number,))\n",
    "        processes.append(process)\n",
    "        process.start()\n",
    "\n",
    "    # Wait for all processes to finish\n",
    "    for process in processes:\n",
    "        process.join()\n",
    "\n",
    "    print(\"All processes have finished executing.\")\n"
   ]
  },
  {
   "cell_type": "code",
   "execution_count": null,
   "id": "6a61c424-e76c-4912-a4d6-e3a5e79c16a6",
   "metadata": {},
   "outputs": [],
   "source": []
  }
 ],
 "metadata": {
  "kernelspec": {
   "display_name": "Python 3 (ipykernel)",
   "language": "python",
   "name": "python3"
  },
  "language_info": {
   "codemirror_mode": {
    "name": "ipython",
    "version": 3
   },
   "file_extension": ".py",
   "mimetype": "text/x-python",
   "name": "python",
   "nbconvert_exporter": "python",
   "pygments_lexer": "ipython3",
   "version": "3.10.8"
  }
 },
 "nbformat": 4,
 "nbformat_minor": 5
}
