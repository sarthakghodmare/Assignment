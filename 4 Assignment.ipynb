{
 "cells": [
  {
   "cell_type": "code",
   "execution_count": null,
   "id": "65ab139b-e2e1-4531-99e1-662606a72e68",
   "metadata": {},
   "outputs": [],
   "source": [
    "Q1, Create a vehicle class with an init method having instance variables as name_of_vehicle, max_speed\n",
    "and average_of_vehicle."
   ]
  },
  {
   "cell_type": "code",
   "execution_count": 16,
   "id": "c912defd-fec8-4b95-9129-70985bfb8bfd",
   "metadata": {},
   "outputs": [],
   "source": [
    "class vehicle:\n",
    "    \n",
    "    def __init__(self,name_of_vehicle,max_speed,average_of_vehicle):\n",
    "        self.name_of_vehicle=name_of_vehicle\n",
    "        self.max_speed=max_speed\n",
    "        self.average_of_vehicle=average_of_vehicle\n",
    "        \n",
    "    def return_vehicle_details(self):\n",
    "        return self.name_of_vehicle,self.max_speed,self.average_of_vehicle\n",
    "        \n",
    "    \n",
    "    "
   ]
  },
  {
   "cell_type": "code",
   "execution_count": 17,
   "id": "b3c0ed00-a5a4-4298-befb-c5a80d99afef",
   "metadata": {},
   "outputs": [],
   "source": [
    "obj_vehicle = vehicle(\"TOYOTA\",1040,15)#creting instance or object"
   ]
  },
  {
   "cell_type": "code",
   "execution_count": 18,
   "id": "cbf1769b-72a9-4266-8f6d-7fb6393da9c9",
   "metadata": {},
   "outputs": [
    {
     "data": {
      "text/plain": [
       "'TOYOTA'"
      ]
     },
     "execution_count": 18,
     "metadata": {},
     "output_type": "execute_result"
    }
   ],
   "source": [
    "obj_vehicle.name_of_vehicle\n"
   ]
  },
  {
   "cell_type": "code",
   "execution_count": 19,
   "id": "6f7b91ae-43a7-44e3-8170-f163f440e9b4",
   "metadata": {},
   "outputs": [
    {
     "data": {
      "text/plain": [
       "1040"
      ]
     },
     "execution_count": 19,
     "metadata": {},
     "output_type": "execute_result"
    }
   ],
   "source": [
    "obj_vehicle.max_speed\n"
   ]
  },
  {
   "cell_type": "code",
   "execution_count": 20,
   "id": "7b392eb3-3af1-454f-95b3-7267e01cb30c",
   "metadata": {},
   "outputs": [
    {
     "data": {
      "text/plain": [
       "15"
      ]
     },
     "execution_count": 20,
     "metadata": {},
     "output_type": "execute_result"
    }
   ],
   "source": [
    "obj_vehicle.average_of_vehicle\n"
   ]
  },
  {
   "cell_type": "code",
   "execution_count": null,
   "id": "06b66d4e-6695-43dd-8a84-ca9068ed7007",
   "metadata": {},
   "outputs": [],
   "source": [
    "Q2. Create a child class car from the vehicle class created in Que 1, which will inherit the vehicle class.\n",
    "Create a method named seating_capacity which takes capacity as an argument and returns the name of\n",
    "the vehicle and its seating capacity."
   ]
  },
  {
   "cell_type": "code",
   "execution_count": 42,
   "id": "d4949472-854c-483e-ace3-4dafc9637a0c",
   "metadata": {},
   "outputs": [],
   "source": [
    "class vehicle:\n",
    "    \n",
    "    def __init__(self,name_of_vehicle,max_speed,average_of_vehicle):\n",
    "        self.name_of_vehicle=name_of_vehicle\n",
    "        self.max_speed=max_speed\n",
    "        self.average_of_vehicle=average_of_vehicle\n",
    "        \n",
    "    def return_vehicle_details(self):\n",
    "        return self.name_of_vehicle,self.max_speed,self.average_of_vehicle\n",
    "    \n",
    "   "
   ]
  },
  {
   "cell_type": "code",
   "execution_count": 28,
   "id": "e1d0c247-4b96-47b7-a345-04a5d5c883cb",
   "metadata": {},
   "outputs": [],
   "source": []
  },
  {
   "cell_type": "code",
   "execution_count": 43,
   "id": "592acf5b-9f40-4a61-a00d-9776cc260ca8",
   "metadata": {},
   "outputs": [],
   "source": [
    "class car(vehicle):\n",
    "    def seating_capacity(self,capacity,name_of_vehicle, max_speed, average_of_vehicle):\n",
    "        \n",
    "        super().__init__(name_of_vehicle, max_speed, average_of_vehicle)\n",
    "        self.capacity=capacity\n",
    "        \n",
    "    def return_car_details(self):\n",
    "        return self.capacity\n",
    "    "
   ]
  },
  {
   "cell_type": "code",
   "execution_count": 44,
   "id": "c41cd388-f427-4045-a6d7-b91db7b934f4",
   "metadata": {},
   "outputs": [],
   "source": [
    "obj_car=car(\"TOYOTA\",1040,15)\n"
   ]
  },
  {
   "cell_type": "code",
   "execution_count": 45,
   "id": "ef0ad164-370c-4228-a2cb-8263cd1eb267",
   "metadata": {},
   "outputs": [
    {
     "data": {
      "text/plain": [
       "'TOYOTA'"
      ]
     },
     "execution_count": 45,
     "metadata": {},
     "output_type": "execute_result"
    }
   ],
   "source": [
    "obj_car.name_of_vehicle"
   ]
  },
  {
   "cell_type": "code",
   "execution_count": null,
   "id": "72ba9743-4b34-43bd-ae51-221f6cfe9459",
   "metadata": {},
   "outputs": [],
   "source": [
    "obj_car.seating_capacity(5)"
   ]
  },
  {
   "cell_type": "code",
   "execution_count": null,
   "id": "c0e159b2-ca0d-40bb-9bc2-60e835970ed7",
   "metadata": {},
   "outputs": [],
   "source": [
    "Q3. What is multiple inheritance? Write a python code to demonstrate multiple inheritance."
   ]
  },
  {
   "cell_type": "code",
   "execution_count": null,
   "id": "057e5e54-40c5-46c1-ba23-33528af9e819",
   "metadata": {},
   "outputs": [],
   "source": [
    "soln:child class inherited the property of two parent class is called multiple inheritance.When a class is derived from more than one base class it is called multiple Inheritance. The derived class inherits all the features of the base case.\n"
   ]
  },
  {
   "cell_type": "code",
   "execution_count": 16,
   "id": "f70e0995-9094-412d-9e52-bc4d54d43e56",
   "metadata": {},
   "outputs": [],
   "source": [
    "class father:\n",
    "    def test_class1(self):\n",
    "        return \"this is my father class\""
   ]
  },
  {
   "cell_type": "code",
   "execution_count": 17,
   "id": "13da85f6-9df6-4962-9d3f-4981ec4d2ca6",
   "metadata": {},
   "outputs": [],
   "source": [
    "class mother:\n",
    "    def test_class2(self):\n",
    "        return \"this is my mother class\""
   ]
  },
  {
   "cell_type": "code",
   "execution_count": 18,
   "id": "2c2be014-4084-4603-b7a5-3f7cff584d0a",
   "metadata": {},
   "outputs": [],
   "source": [
    "class son(father,mother):\n",
    "    pass"
   ]
  },
  {
   "cell_type": "code",
   "execution_count": 19,
   "id": "5e7a7eb0-59d9-4c6c-a1c7-d44e69bf8ddc",
   "metadata": {},
   "outputs": [],
   "source": [
    "obj_son=son()"
   ]
  },
  {
   "cell_type": "code",
   "execution_count": 14,
   "id": "ab261a41-e6f3-43aa-8610-6211fbab5c17",
   "metadata": {},
   "outputs": [
    {
     "data": {
      "text/plain": [
       "'this is my father class'"
      ]
     },
     "execution_count": 14,
     "metadata": {},
     "output_type": "execute_result"
    }
   ],
   "source": [
    "obj_son.test_class1()"
   ]
  },
  {
   "cell_type": "code",
   "execution_count": 20,
   "id": "be236a2f-b97e-43c7-ac7e-dba2b71dc940",
   "metadata": {},
   "outputs": [
    {
     "data": {
      "text/plain": [
       "'this is my mother class'"
      ]
     },
     "execution_count": 20,
     "metadata": {},
     "output_type": "execute_result"
    }
   ],
   "source": [
    "obj_son.test_class2()"
   ]
  },
  {
   "cell_type": "code",
   "execution_count": null,
   "id": "cf10e980-f485-4972-a1f0-67c0dd4a5fd5",
   "metadata": {},
   "outputs": [],
   "source": [
    "Q4. What are getter and setter in python? Create a class and create a getter and a setter method in this\n",
    "class."
   ]
  },
  {
   "cell_type": "code",
   "execution_count": null,
   "id": "49ee5e64-bbf1-40e5-b8a0-5d95fc298860",
   "metadata": {},
   "outputs": [],
   "source": [
    "soln:In Python, getters and setters are not the same as those in other object-oriented programming languages. Basically, the main purpose of using getters and setters in object-oriented programs is to ensure data encapsulation. Private variables in python are not actually hidden fields like in other object oriented languages. Getters and Setters in python are often used when:\n",
    "\n",
    "We use getters & setters to add validation logic around getting and setting a value.\n",
    "To avoid direct access of a class field i.e. private variables cannot be accessed directly or modified by external user."
   ]
  },
  {
   "cell_type": "code",
   "execution_count": 22,
   "id": "7df4985d-2244-4cc1-ba2a-9cb4ab608966",
   "metadata": {},
   "outputs": [],
   "source": [
    "class car:\n",
    "    def __init__ (self,year ,make,model, speed):\n",
    "        self.__year=year \n",
    "        self.__make=make\n",
    "        self.__model=model\n",
    "        self.__speed=0\n",
    "        \n",
    "    def set_speed(self,speed):\n",
    "        self.__speed =0 if speed < 0 else speed \n",
    "        \n",
    "    def get_speed(self):\n",
    "        return self.__speed"
   ]
  },
  {
   "cell_type": "code",
   "execution_count": 23,
   "id": "dba30661-3647-49d4-bf9e-d15cb3e9a344",
   "metadata": {},
   "outputs": [],
   "source": [
    "c=car(2023,\"toyta\",\"innova\",12)"
   ]
  },
  {
   "cell_type": "code",
   "execution_count": 24,
   "id": "19f65f4f-3caa-40d3-8842-2a18b3a8b11f",
   "metadata": {},
   "outputs": [],
   "source": [
    "c.set_speed(-45)"
   ]
  },
  {
   "cell_type": "code",
   "execution_count": 25,
   "id": "7bd13b78-40d5-48c9-8fda-dde83c63635a",
   "metadata": {},
   "outputs": [
    {
     "data": {
      "text/plain": [
       "0"
      ]
     },
     "execution_count": 25,
     "metadata": {},
     "output_type": "execute_result"
    }
   ],
   "source": [
    "c.get_speed()"
   ]
  },
  {
   "cell_type": "code",
   "execution_count": 26,
   "id": "52ed7067-5c0b-41e8-9ff1-0ea8a95daa57",
   "metadata": {},
   "outputs": [],
   "source": [
    "c.set_speed(45)"
   ]
  },
  {
   "cell_type": "code",
   "execution_count": 27,
   "id": "dda4ba5f-bfdd-43b5-b85c-c01e0307bcde",
   "metadata": {},
   "outputs": [
    {
     "data": {
      "text/plain": [
       "45"
      ]
     },
     "execution_count": 27,
     "metadata": {},
     "output_type": "execute_result"
    }
   ],
   "source": [
    "c.get_speed()"
   ]
  },
  {
   "cell_type": "code",
   "execution_count": null,
   "id": "323e0bcb-aa5d-40e4-9885-03877c3b0964",
   "metadata": {},
   "outputs": [],
   "source": [
    "Q5.What is method overriding in python? Write a python code to demonstrate method overriding."
   ]
  },
  {
   "cell_type": "code",
   "execution_count": null,
   "id": "3b0bb42c-cd35-46a9-92d4-45d2a09f42dc",
   "metadata": {},
   "outputs": [],
   "source": [
    "soln:Method overriding is an ability of any object-oriented programming language that allows a subclass or child class to provide a specific implementation of a method that is already provided by one of its super-classes or parent classes. When a method in a subclass has the same name, same parameters or signature and same return type(or sub-type) as a method in its super-class, then the method in the subclass is said to override the method in the super-class"
   ]
  },
  {
   "cell_type": "code",
   "execution_count": 41,
   "id": "59cf4a85-7af4-4831-9db4-83e8609ddb42",
   "metadata": {},
   "outputs": [
    {
     "name": "stdout",
     "output_type": "stream",
     "text": [
      "Parent's show method\n",
      "Child's show method\n"
     ]
    }
   ],
   "source": [
    "# Defining parent class \n",
    "class Parent: \n",
    "    def show(self):\n",
    "        print(\"Parent's show method\")\n",
    "\n",
    "# Defining child class \n",
    "class Child(Parent): \n",
    "    def show(self):\n",
    "        print(\"Child's show method\")\n",
    "\n",
    "# Creating objects\n",
    "parent_obj = Parent()\n",
    "child_obj = Child()\n",
    "\n",
    "# Calling methods\n",
    "parent_obj.show()  # Output: Parent's show method\n",
    "child_obj.show()   # Output: Child's show method\n"
   ]
  },
  {
   "cell_type": "code",
   "execution_count": null,
   "id": "ec5ff762-8095-4dab-9df1-4813471d20b8",
   "metadata": {},
   "outputs": [],
   "source": []
  }
 ],
 "metadata": {
  "kernelspec": {
   "display_name": "Python 3 (ipykernel)",
   "language": "python",
   "name": "python3"
  },
  "language_info": {
   "codemirror_mode": {
    "name": "ipython",
    "version": 3
   },
   "file_extension": ".py",
   "mimetype": "text/x-python",
   "name": "python",
   "nbconvert_exporter": "python",
   "pygments_lexer": "ipython3",
   "version": "3.10.8"
  }
 },
 "nbformat": 4,
 "nbformat_minor": 5
}
