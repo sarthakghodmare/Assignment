{
 "cells": [
  {
   "cell_type": "code",
   "execution_count": 1,
   "id": "5fa3b90d-79b3-407c-8865-19b3486dc515",
   "metadata": {},
   "outputs": [
    {
     "name": "stdout",
     "output_type": "stream",
     "text": [
      "Object `error` not found.\n"
     ]
    }
   ],
   "source": [
    "Q.1 what is Exception in python. write the difference between Exception and syntax error?\n",
    "soln:In python,an exception is an event that occur during execution of programm ,that disturp the normal flow of instruction.when an exception occur\n",
    "the python runtime system generate an exception object. that contain information about error.including the type of error and location in the code where error occured.\n",
    "\n",
    "Exception are used to handle error gracefully.and allow the programm to recover or provide useful feedback. python has bulit-in machanism to handle exeception using try , except , else,finally block.\n",
    "\n",
    "Exception:Exception refers to any runtime error.occur during excution of programm.these error are not detected untill programm is running.Example: generic/main exception likes: 'Exception'.and specfic error like: 'divisionbyzero','filenotfound'etc.\n",
    "syntax error: refers to error in the code that voilate synatx rule in python.these error is detected by the python interpreter before the programm is excuted."
   ]
  },
  {
   "cell_type": "code",
   "execution_count": null,
   "id": "f98aa357-e48b-4888-ac7f-34b62c4262b6",
   "metadata": {},
   "outputs": [],
   "source": [
    "Q.2 what happens when exception is not handled?explain with an example?\n",
    "Error Occur: an issue like dividingbyzero ,occur\n",
    "No handling:if there is no try-except block ,the error is not caught.\n",
    "programm stop: python shows an error message ,and stop the programm."
   ]
  },
  {
   "cell_type": "code",
   "execution_count": 1,
   "id": "f3b32c66-32ea-4dca-86bb-90916b1861d8",
   "metadata": {},
   "outputs": [
    {
     "ename": "ZeroDivisionError",
     "evalue": "division by zero",
     "output_type": "error",
     "traceback": [
      "\u001b[0;31m---------------------------------------------------------------------------\u001b[0m",
      "\u001b[0;31mZeroDivisionError\u001b[0m                         Traceback (most recent call last)",
      "Cell \u001b[0;32mIn[1], line 8\u001b[0m\n\u001b[1;32m      5\u001b[0m     result \u001b[38;5;241m=\u001b[39m divide(\u001b[38;5;241m10\u001b[39m, \u001b[38;5;241m0\u001b[39m)  \u001b[38;5;66;03m# This causes ZeroDivisionError\u001b[39;00m\n\u001b[1;32m      6\u001b[0m     \u001b[38;5;28mprint\u001b[39m(result)\n\u001b[0;32m----> 8\u001b[0m \u001b[43mmain\u001b[49m\u001b[43m(\u001b[49m\u001b[43m)\u001b[49m\n",
      "Cell \u001b[0;32mIn[1], line 5\u001b[0m, in \u001b[0;36mmain\u001b[0;34m()\u001b[0m\n\u001b[1;32m      4\u001b[0m \u001b[38;5;28;01mdef\u001b[39;00m \u001b[38;5;21mmain\u001b[39m():\n\u001b[0;32m----> 5\u001b[0m     result \u001b[38;5;241m=\u001b[39m \u001b[43mdivide\u001b[49m\u001b[43m(\u001b[49m\u001b[38;5;241;43m10\u001b[39;49m\u001b[43m,\u001b[49m\u001b[43m \u001b[49m\u001b[38;5;241;43m0\u001b[39;49m\u001b[43m)\u001b[49m  \u001b[38;5;66;03m# This causes ZeroDivisionError\u001b[39;00m\n\u001b[1;32m      6\u001b[0m     \u001b[38;5;28mprint\u001b[39m(result)\n",
      "Cell \u001b[0;32mIn[1], line 2\u001b[0m, in \u001b[0;36mdivide\u001b[0;34m(a, b)\u001b[0m\n\u001b[1;32m      1\u001b[0m \u001b[38;5;28;01mdef\u001b[39;00m \u001b[38;5;21mdivide\u001b[39m(a, b):\n\u001b[0;32m----> 2\u001b[0m     \u001b[38;5;28;01mreturn\u001b[39;00m \u001b[43ma\u001b[49m\u001b[43m \u001b[49m\u001b[38;5;241;43m/\u001b[39;49m\u001b[43m \u001b[49m\u001b[43mb\u001b[49m\n",
      "\u001b[0;31mZeroDivisionError\u001b[0m: division by zero"
     ]
    }
   ],
   "source": [
    "def divide(a, b):\n",
    "    return a / b\n",
    "\n",
    "def main():\n",
    "    result = divide(10, 0)  # This causes ZeroDivisionError\n",
    "    print(result)\n",
    "\n",
    "main()"
   ]
  },
  {
   "cell_type": "code",
   "execution_count": null,
   "id": "9288e5c5-49e7-4c9b-b7ea-12dcf187c234",
   "metadata": {},
   "outputs": [],
   "source": [
    "Q3. Which,python statement are used to catch and handle exception?explain with an example.\n",
    "soln:in python ,exception catch and handle using try-except block.\n",
    "\n",
    "1.try:this block contain the code that might raise an exception.if the exception occur,the code execution immedaitely, moves to except block.\n",
    "2.except:this block contain the code that handle the exception.you can specify the type of exception to handle  or use genral \"except\" block to cathch the exception\n",
    "3.else:this block is excuted if no  exception raised in try block.\n",
    "4:finally:this block is excuted  regardless of whether an exception is raised or not.it is typically use for cleanup."
   ]
  },
  {
   "cell_type": "code",
   "execution_count": 1,
   "id": "d2c2be32-f646-411a-9824-5753bb0dc4bb",
   "metadata": {},
   "outputs": [
    {
     "name": "stdin",
     "output_type": "stream",
     "text": [
      "Enter a number:  0\n"
     ]
    },
    {
     "name": "stdout",
     "output_type": "stream",
     "text": [
      "Error: Cannot divide by zero.\n",
      "Execution completed.\n"
     ]
    }
   ],
   "source": [
    "try:\n",
    "    # Code that may raise an exception\n",
    "    number = int(input(\"Enter a number: \"))\n",
    "    result = 10 / number\n",
    "    print(f\"Result: {result}\")\n",
    "except ValueError:\n",
    "    # Handle the case where the input is not an integer\n",
    "    print(\"Invalid input. Please enter a valid integer.\")\n",
    "except ZeroDivisionError:\n",
    "    # Handle the case where division by zero is attempted\n",
    "    print(\"Error: Cannot divide by zero.\")\n",
    "else:\n",
    "    # Code to run if no exception was raised\n",
    "    print(\"Division was successful.\")\n",
    "finally:\n",
    "    # Code that always runs, regardless of exceptions\n",
    "    print(\"Execution completed.\")\n",
    "\n",
    "    "
   ]
  },
  {
   "cell_type": "code",
   "execution_count": null,
   "id": "f0423f3c-dac5-43b2-aed8-3234bcf353cc",
   "metadata": {},
   "outputs": [],
   "source": [
    "Q.4 explain with an example:\n",
    "    a.try and else\n",
    "    b.finally\n",
    "    c.raise"
   ]
  },
  {
   "cell_type": "code",
   "execution_count": null,
   "id": "65e2e463-20af-4ccf-91dd-9191c89deb46",
   "metadata": {},
   "outputs": [],
   "source": [
    "a:try block that may raise an exception, if no exceution occur then ,the code inside the else block code is excuted. \n"
   ]
  },
  {
   "cell_type": "code",
   "execution_count": 2,
   "id": "e97791f9-bf98-4def-9291-9bd92b5f7502",
   "metadata": {},
   "outputs": [
    {
     "name": "stdin",
     "output_type": "stream",
     "text": [
      "enter your number 12\n"
     ]
    },
    {
     "name": "stdout",
     "output_type": "stream",
     "text": [
      "number is  12\n",
      "division is completed\n"
     ]
    }
   ],
   "source": [
    "try:\n",
    "    num=int(input(\"enter your number\"))\n",
    "    a=10/num\n",
    "    print(\"number is \",num)\n",
    "except ZeroDivisionError:\n",
    "    print(\"cannot divide by zero\")\n",
    "else:\n",
    "    print(\"division is completed\")\n",
    "    "
   ]
  },
  {
   "cell_type": "code",
   "execution_count": null,
   "id": "a8005316-e329-40f5-8404-07950b9e664f",
   "metadata": {},
   "outputs": [],
   "source": [
    "b:finally is optinal run regardless whether an exception is raised or not."
   ]
  },
  {
   "cell_type": "code",
   "execution_count": 6,
   "id": "6b9353d1-0c61-418e-bc80-fa5912a2e745",
   "metadata": {},
   "outputs": [
    {
     "name": "stdout",
     "output_type": "stream",
     "text": [
      "this is finally \n"
     ]
    }
   ],
   "source": [
    "try :\n",
    "    with open(\"test.txt\",\"w\") as f:\n",
    "        f.write(\"this is my write\")\n",
    "except FileNotFound as e:\n",
    "    print(\"file not found error occur\")\n",
    "finally:\n",
    "    f.close()\n",
    "   \n",
    "    print(\"this is finally \") # it is always excuted file exception raise or not.\n",
    "    \n",
    "        "
   ]
  },
  {
   "cell_type": "code",
   "execution_count": null,
   "id": "c7894f18-df45-4408-8640-ff340a6bb93d",
   "metadata": {},
   "outputs": [],
   "source": [
    "c:raise statement is used to explicitally throw an exception."
   ]
  },
  {
   "cell_type": "code",
   "execution_count": 7,
   "id": "b2cfe145-216a-4bf7-ae45-4ae895766b6b",
   "metadata": {},
   "outputs": [
    {
     "name": "stdout",
     "output_type": "stream",
     "text": [
      "Age is 25\n",
      "Error: Age cannot be negative.\n"
     ]
    }
   ],
   "source": [
    "def check_age(age):\n",
    "    if age < 0:\n",
    "        raise ValueError(\"Age cannot be negative.\")\n",
    "    return f\"Age is {age}\"\n",
    "\n",
    "try:\n",
    "    print(check_age(25))  # Valid age\n",
    "    print(check_age(-5))  # Invalid age, will raise an exception\n",
    "except ValueError as e:\n",
    "    print(f\"Error: {e}\")\n"
   ]
  },
  {
   "cell_type": "code",
   "execution_count": null,
   "id": "9383c964-62ba-4f9e-95ab-45693281d811",
   "metadata": {},
   "outputs": [],
   "source": [
    "5.what are custom excption in python?why do we need custom excption? explain with an example.\n",
    "soln:custom exception is user defiend error types that help you to manage specific error in your code.\n",
    "\n",
    "specificity:they handle  unique error case.\n",
    "clarity: they provide clear errror message.\n",
    "    "
   ]
  },
  {
   "cell_type": "code",
   "execution_count": 10,
   "id": "596f3713-0d52-4e8d-ab4e-79256dc8aba7",
   "metadata": {},
   "outputs": [
    {
     "name": "stdin",
     "output_type": "stream",
     "text": [
      "Enter your age:  -2\n"
     ]
    },
    {
     "name": "stdout",
     "output_type": "stream",
     "text": [
      "Error: Entered age is negative.\n"
     ]
    }
   ],
   "source": [
    "# Define the custom exception class\n",
    "class AgeValidationError(Exception):\n",
    "    def __init__(self, msg):\n",
    "        super().__init__(msg)\n",
    "\n",
    "# Function that validates age\n",
    "def validateage(age):\n",
    "    if age < 0:\n",
    "        raise AgeValidationError(\"Entered age is negative.\")\n",
    "    elif age > 200:\n",
    "        raise AgeValidationError(\"Entered age is very high.\")\n",
    "    else:\n",
    "        print(\"Age is valid.\")\n",
    "\n",
    "# Main program\n",
    "try:\n",
    "    age = int(input(\"Enter your age: \"))\n",
    "    validateage(age)\n",
    "except AgeValidationError as e:\n",
    "    print(f\"Error: {e}\")\n",
    "except ValueError:\n",
    "    print(\"Invalid input. Please enter a valid integer.\")\n"
   ]
  },
  {
   "cell_type": "code",
   "execution_count": null,
   "id": "b40cf025-38a1-4bd4-b47f-5f4049ec121b",
   "metadata": {},
   "outputs": [],
   "source": [
    "    6.crete an custom exception class.use this class to handle exception."
   ]
  },
  {
   "cell_type": "code",
   "execution_count": 11,
   "id": "bdeae2fb-78a6-4900-8dbc-57acbee5245a",
   "metadata": {},
   "outputs": [
    {
     "name": "stdin",
     "output_type": "stream",
     "text": [
      "Enter a value:  143\n"
     ]
    },
    {
     "name": "stdout",
     "output_type": "stream",
     "text": [
      "Custom Error: Value exceeds the maximum limit of 100.\n"
     ]
    }
   ],
   "source": [
    "# Define the custom exception class\n",
    "class CustomError(Exception):\n",
    "    def __init__(self, message):\n",
    "        self.message = message\n",
    "        super().__init__(self.message)\n",
    "\n",
    "# Function that raises the custom exception\n",
    "def check_value(value):\n",
    "    if value < 0:\n",
    "        raise CustomError(\"Negative values are not allowed.\")\n",
    "    elif value > 100:\n",
    "        raise CustomError(\"Value exceeds the maximum limit of 100.\")\n",
    "    else:\n",
    "        return f\"Value {value} is valid.\"\n",
    "\n",
    "# Main program\n",
    "try:\n",
    "    value = int(input(\"Enter a value: \"))\n",
    "    result = check_value(value)\n",
    "    print(result)\n",
    "except CustomError as e:\n",
    "    print(f\"Custom Error: {e}\")\n",
    "except ValueError:\n",
    "    print(\"Invalid input. Please enter a valid integer.\")\n"
   ]
  },
  {
   "cell_type": "code",
   "execution_count": null,
   "id": "beb9c04f-6c19-42ba-b4f1-e668bee1361c",
   "metadata": {},
   "outputs": [],
   "source": []
  }
 ],
 "metadata": {
  "kernelspec": {
   "display_name": "Python 3 (ipykernel)",
   "language": "python",
   "name": "python3"
  },
  "language_info": {
   "codemirror_mode": {
    "name": "ipython",
    "version": 3
   },
   "file_extension": ".py",
   "mimetype": "text/x-python",
   "name": "python",
   "nbconvert_exporter": "python",
   "pygments_lexer": "ipython3",
   "version": "3.10.8"
  }
 },
 "nbformat": 4,
 "nbformat_minor": 5
}
