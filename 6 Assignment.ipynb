{
 "cells": [
  {
   "cell_type": "code",
   "execution_count": null,
   "id": "fbb68218-a0f7-47f2-a967-0f69118a907f",
   "metadata": {},
   "outputs": [],
   "source": [
    "Q1. What is Abstraction in OOps? Explain with an example.\n",
    "soln:Abstaction in OPPs  simplifies complex system by focusing on essential feature while hiding unnecessary details.Abstraction is the process of hiding the internal details of an application from the outer world. Abstraction is used to describe things in simple terms. It’s used to create a boundary between the application and the client programs.\n"
   ]
  },
  {
   "cell_type": "code",
   "execution_count": 23,
   "id": "dee7fbe2-5a76-4e93-8004-4297f1dcdbaf",
   "metadata": {},
   "outputs": [],
   "source": [
    "import abc\n",
    "class pwskills: \n",
    "    @abc.abstractmethod\n",
    "    def student_details(self):\n",
    "        pass\n",
    "    @abc.abstractmethod\n",
    "    def student_assignment(self):\n",
    "        pass\n",
    "    \n",
    "    @abc.abstractmethod\n",
    "    def student_marks(self):\n",
    "        pass\n",
    "    \n",
    "       "
   ]
  },
  {
   "cell_type": "code",
   "execution_count": 24,
   "id": "7170babc-3712-43a6-b419-54282fcee809",
   "metadata": {},
   "outputs": [],
   "source": [
    "class student_details(pwskills):\n",
    "    def student_details(self):\n",
    "        return \"this is meth of taking detials of student details\"\n",
    "        \n",
    "    def student_assignment(self):\n",
    "        return \"this is meth of taking assignment of student\"\n",
    "    \n",
    "    def student_marks(self):\n",
    "        return \"this is meth of taking marks of student\""
   ]
  },
  {
   "cell_type": "code",
   "execution_count": 25,
   "id": "7dfef6a6-814b-461c-9a4d-b0de1b6a2cbf",
   "metadata": {},
   "outputs": [],
   "source": [
    "class data_science_master(pwskills):\n",
    "    \n",
    "    def student_details(self):\n",
    "        return \"this is meth of taking detials of student for data _scince master\"\n",
    "    \n",
    "    def student_assignment(self):\n",
    "        return \"this is meth of taking assignment of student for data_science_master\"\n",
    "    \n",
    "    def student_marks(self):\n",
    "        return \"this is meth of taking marks of student for data _science_master\"\n",
    "    \n",
    "    \n",
    "  \n",
    "    "
   ]
  },
  {
   "cell_type": "code",
   "execution_count": 26,
   "id": "860a71bb-c71a-4d6a-9827-55f8c86dcf6f",
   "metadata": {},
   "outputs": [
    {
     "data": {
      "text/plain": [
       "'this is meth of taking detials of student for data _scince master'"
      ]
     },
     "execution_count": 26,
     "metadata": {},
     "output_type": "execute_result"
    }
   ],
   "source": [
    "data_sciene_master_obj=data_science_master()\n",
    "data_sciene_master_obj.student_details()"
   ]
  },
  {
   "cell_type": "code",
   "execution_count": 27,
   "id": "0c790dbc-0cec-489c-b8d5-d1ded0b546aa",
   "metadata": {},
   "outputs": [
    {
     "data": {
      "text/plain": [
       "'this is meth of taking assignment of student for data_science_master'"
      ]
     },
     "execution_count": 27,
     "metadata": {},
     "output_type": "execute_result"
    }
   ],
   "source": [
    "data_sciene_master_obj.student_assignment()"
   ]
  },
  {
   "cell_type": "code",
   "execution_count": 28,
   "id": "f7de1d2a-3ae9-4764-820d-e0f0ad8272cf",
   "metadata": {},
   "outputs": [
    {
     "data": {
      "text/plain": [
       "'this is meth of taking marks of student for data _science_master'"
      ]
     },
     "execution_count": 28,
     "metadata": {},
     "output_type": "execute_result"
    }
   ],
   "source": [
    "data_sciene_master_obj.student_marks()"
   ]
  },
  {
   "cell_type": "code",
   "execution_count": null,
   "id": "4c171ac4-05c1-4885-800b-306337847558",
   "metadata": {},
   "outputs": [],
   "source": [
    "Q2. Differentiate between Abstraction and Encapsulation. Explain with an example.\n",
    "soln:Abstraction:Abstraction focuses on hiding unnecessary implementation details and showing only the essential features of an object. It allows programmers to work with objects at a higher level of understanding, without needing to know all the internal complexities. Abstraction is achieved using abstract classes, interfaces, and abstract methods.\n",
    "Encapsulation:Encapsulation, on the other hand, involves bundling the data (attributes) and methods (functions) that operate on the data into a single unit, known as a class. It hides the internal state of an object from the outside world and only exposes the necessary functionalities, thus protecting the integrity of the data. Encapsulation helps in maintaining the integrity of data by preventing unauthorized access and modification."
   ]
  },
  {
   "cell_type": "code",
   "execution_count": 41,
   "id": "e69bd439-35bc-49db-b080-31f4169e998d",
   "metadata": {},
   "outputs": [
    {
     "name": "stdout",
     "output_type": "stream",
     "text": [
      "Area of rectangle: 20\n",
      "Bank account : 56000\n"
     ]
    }
   ],
   "source": [
    "# Example demonstrating abstraction\n",
    "from abc import ABC, abstractmethod\n",
    "\n",
    "# Abstract class representing a Shape\n",
    "class Shape(ABC):\n",
    "    @abstractmethod\n",
    "    def area(self):\n",
    "        pass\n",
    "\n",
    "# Concrete subclass representing a Rectangle\n",
    "class Rectangle(Shape):\n",
    "    def __init__(self, width, height):\n",
    "        self.width = width\n",
    "        self.height = height\n",
    "\n",
    "    def area(self):\n",
    "        return self.width * self.height\n",
    "\n",
    "# Example demonstrating encapsulation\n",
    "class bank_account:\n",
    "    def __init__(self,balance):\n",
    "        self.__balance=balance# Private attribute\n",
    "        \n",
    "    def deposite(self,amount):\n",
    "        self.__balance=self.__balance+amount\n",
    "    \n",
    "    def withdaw(self,amount):\n",
    "        if self.__balance >= amount:\n",
    "            self.__balance=self.__balance-amount \n",
    "            return True\n",
    "        else:\n",
    "            return False\n",
    "    def get_balance(self):\n",
    "        return self.__balance\n",
    "    \n",
    "\n",
    "    \n",
    "\n",
    "# Creating objects and using abstraction\n",
    "rectangle = Rectangle(5, 4)\n",
    "print(\"Area of rectangle:\", rectangle.area())  # Output: Area of rectangle: 20\n",
    "\n",
    "# Creating objects and using encapsulation\n",
    "\n",
    "sarthak= bank_account(1000)\n",
    "sarthak.get_balance()\n",
    "sarthak.deposite(55000)\n",
    "print(\"Bank account :\",sarthak.get_balance())"
   ]
  },
  {
   "cell_type": "code",
   "execution_count": null,
   "id": "304c7834-2b0c-4f22-89cf-09231bbc348c",
   "metadata": {},
   "outputs": [],
   "source": [
    "Q3. What is abc module in python? Why is it used?\n",
    "soln:\n",
    "The abc module in Python stands for Abstract Base Classes. It provides facilities for defining and working with abstract base classes and abstract methods. Abstract base classes are classes that cannot be instantiated directly but serve as templates for other classes to inherit from. They are useful for defining a common interface that subclasses must adhere to."
   ]
  },
  {
   "cell_type": "code",
   "execution_count": null,
   "id": "5102f568-79a7-4bba-a555-430c83eaac06",
   "metadata": {},
   "outputs": [],
   "source": [
    "Q4. How can we achieve data abstraction?\n",
    "soln:Data abstraction in Python can be achieved through various mechanisms, primarily using classes and objects. Here's how you can achieve data abstraction:\n",
    "\n",
    "1.Encapsulation: Encapsulating data within classes by defining attributes (data) and methods (functions) to operate on that data. This hides the internal state of an object from the outside world and exposes only the necessary functionalities.\n",
    "2.Private Attributes and Methods: Using private attributes and methods to restrict access to certain data or operations. This ensures that data is accessed and modified only through defined interfaces, preventing unauthorized access.\n",
    "3.Abstract Classes and Methods: Using abstract base classes (ABCs) and abstract methods to define a common interface that subclasses must implement. This allows for polymorphism and ensures consistency in behavior across different classes."
   ]
  },
  {
   "cell_type": "code",
   "execution_count": null,
   "id": "811837ca-447b-478d-b061-f4f101bb8ca3",
   "metadata": {},
   "outputs": [],
   "source": [
    "Q5. Can we create an instance of an abstract class? Explain your answer.\n",
    "soln:\n",
    "No, we cannot create an instance of an abstract class directly in Python. Abstract classes are meant to be used as blueprints for other classes to inherit from, and they typically contain one or more abstract methods without implementations."
   ]
  },
  {
   "cell_type": "code",
   "execution_count": null,
   "id": "926e5f1d-256f-450b-b7e2-5c960a6defa5",
   "metadata": {},
   "outputs": [],
   "source": []
  }
 ],
 "metadata": {
  "kernelspec": {
   "display_name": "Python 3 (ipykernel)",
   "language": "python",
   "name": "python3"
  },
  "language_info": {
   "codemirror_mode": {
    "name": "ipython",
    "version": 3
   },
   "file_extension": ".py",
   "mimetype": "text/x-python",
   "name": "python",
   "nbconvert_exporter": "python",
   "pygments_lexer": "ipython3",
   "version": "3.10.8"
  }
 },
 "nbformat": 4,
 "nbformat_minor": 5
}
