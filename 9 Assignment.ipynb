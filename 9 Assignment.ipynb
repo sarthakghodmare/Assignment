{
 "cells": [
  {
   "cell_type": "code",
   "execution_count": null,
   "id": "0df6de6d-2329-43e1-a575-5cbab7740bcb",
   "metadata": {},
   "outputs": [],
   "source": [
    "Q.1:what is multithreading in python? why is it used? Name the module used to handle threads in python\n",
    "soln: Multithreading in python allows running multiple threads concurrently within a single process, helping to make programm faster and more efficent, especially for  i/o bound tasks.\n",
    "\n",
    "1.improves performance:Efficient for tasks that invovles  waiting for external resources,like file I/O or network operations.\n",
    "2.Keeps programm responsive: useful for keeping  user interfaces responsive during long operations.\n",
    "\n",
    "Module used to handle threads in  python is 'threading'."
   ]
  },
  {
   "cell_type": "code",
   "execution_count": null,
   "id": "c0552ad3-9c9b-495c-b1e9-8ce91ab4012f",
   "metadata": {},
   "outputs": [],
   "source": [
    "Q.2:why threading module used? write the use of the following functions.\n",
    "1. activeCount()\n",
    " 2.currentThread()\n",
    "3 enumerate()\n",
    "\n",
    "soln:The threading module is used to crete and manage threads,allowing a programm to perform muliple tasks simaltenously ,improving efficincy and responviness.\n",
    "\n",
    "1.threading.active_count():\n",
    "\n",
    "Use: Returns the number of currently active threads.\n",
    "Example: print(threading.active_count())\n",
    "\n",
    "2.threading.current_thread():\n",
    "\n",
    "Use: Returns the Thread object for the current thread.\n",
    "Example: print(threading.current_thread().name)\n",
    "\n",
    "3.threading.enumerate():\n",
    "\n",
    "Use: Returns a list of all currently active threads.\n",
    "Example: print(threading.enumerate())"
   ]
  },
  {
   "cell_type": "code",
   "execution_count": null,
   "id": "acfe9d88-3e43-4004-9da8-82e9ddbf29c4",
   "metadata": {},
   "outputs": [],
   "source": [
    "Q.3:. Explain the following functions\n",
    "1. run()\n",
    " 2.start()\n",
    "3. join()\n",
    "4.isAlive()"
   ]
  },
  {
   "cell_type": "code",
   "execution_count": null,
   "id": "aade391e-fc47-4b18-820d-fba4cc96f9ff",
   "metadata": {},
   "outputs": [],
   "source": [
    "1.run()\n",
    "\n",
    "Use: Defines the thread’s behavior. Override in a subclass of Thread.\n",
    "Example: class MyThread(threading.Thread): def run(self): \n",
    "    \n",
    "    \n",
    "    \n",
    "2.start()\n",
    "\n",
    "Use: Starts the thread and calls the run() method.\n",
    "Example: thread.start()\n",
    "\n",
    "3.join()\n",
    "\n",
    "Use: Waits for the thread to finish.\n",
    "Example: thread.join()\n",
    "\n",
    "\n",
    "4.is_alive()\n",
    "\n",
    "Use: Checks if the thread is still running.\n",
    "Example: thread.is_alive()\n",
    "\n"
   ]
  },
  {
   "cell_type": "code",
   "execution_count": null,
   "id": "290b8e8e-185f-42ce-88fb-bbb26195d5fe",
   "metadata": {},
   "outputs": [],
   "source": [
    "4. write a python program to create two threads. Thread one must print the list of squares and thread\n",
    "two must print the list of cubes"
   ]
  },
  {
   "cell_type": "code",
   "execution_count": 1,
   "id": "1fc97f1a-a8f9-46d6-815c-c30aee4ff711",
   "metadata": {},
   "outputs": [
    {
     "name": "stdout",
     "output_type": "stream",
     "text": [
      "Squares: [1, 4, 9, 16, 25]\n",
      "Cubes: [1, 8, 27, 64, 125]\n"
     ]
    }
   ],
   "source": [
    "import threading\n",
    "\n",
    "# Function to print squares\n",
    "def print_squares(numbers):\n",
    "    squares = [n ** 2 for n in numbers]\n",
    "    print(\"Squares:\", squares)\n",
    "\n",
    "# Function to print cubes\n",
    "def print_cubes(numbers):\n",
    "    cubes = [n ** 3 for n in numbers]\n",
    "    print(\"Cubes:\", cubes)\n",
    "\n",
    "# List of numbers\n",
    "numbers = [1, 2, 3, 4, 5]\n",
    "\n",
    "# Create thread for squares\n",
    "thread_squares = threading.Thread(target=print_squares, args=(numbers,))\n",
    "\n",
    "# Create thread for cubes\n",
    "thread_cubes = threading.Thread(target=print_cubes, args=(numbers,))\n",
    "\n",
    "# Start threads\n",
    "thread_squares.start()\n",
    "thread_cubes.start()\n",
    "\n",
    "# Wait for threads to complete\n",
    "thread_squares.join()\n",
    "thread_cubes.join()\n",
    "\n"
   ]
  },
  {
   "cell_type": "code",
   "execution_count": null,
   "id": "e3eab5b8-56c3-4cb3-a922-144932c4715f",
   "metadata": {},
   "outputs": [],
   "source": [
    "5. State advantages and disadvantages of multithreading\n",
    "soln:\n",
    "1.advantages\n",
    "Improved Performance\n",
    "Responsiveness\n",
    "Resource Sharing\n",
    "Faster Context Switching\n",
    "Modularization\n",
    "\n",
    "2.disadvantages\n",
    "Complexity\n",
    "Debugging Difficulty\n",
    "GIL in Python\n",
    "Resource Contention\n",
    "Overhead\n"
   ]
  },
  {
   "cell_type": "code",
   "execution_count": null,
   "id": "7fd68ba4-d94d-4f6a-86c7-369a67acf202",
   "metadata": {},
   "outputs": [],
   "source": [
    "6. Explain deadlocks and race conditions.\n",
    "soln:\n",
    "Deadlocks:\n",
    "Definition: A situation where two or more threads are stuck waiting for each other to release resources, causing none of them to proceed.\n",
    "\n",
    "Example: Thread A holds Resource 1 and waits for Resource 2, while Thread B holds Resource 2 and waits for Resource 1.\n",
    "\n",
    "Prevention: Use resource ordering, timeouts, or avoid circular waits.\n",
    "\n",
    "Race conditions:\n",
    "Definition: Occur when the outcome of a program depends on the unpredictable timing of thread execution, leading to incorrect results.\n",
    "\n",
    "Example: Two threads incrementing a shared counter may both read the same value and write back the same result.\n",
    "\n",
    "Prevention: Use synchronization mechanisms like locks to ensure exclusive access to shared resources.\n",
    "\n",
    "\n",
    "\n"
   ]
  }
 ],
 "metadata": {
  "kernelspec": {
   "display_name": "Python 3 (ipykernel)",
   "language": "python",
   "name": "python3"
  },
  "language_info": {
   "codemirror_mode": {
    "name": "ipython",
    "version": 3
   },
   "file_extension": ".py",
   "mimetype": "text/x-python",
   "name": "python",
   "nbconvert_exporter": "python",
   "pygments_lexer": "ipython3",
   "version": "3.10.8"
  }
 },
 "nbformat": 4,
 "nbformat_minor": 5
}
