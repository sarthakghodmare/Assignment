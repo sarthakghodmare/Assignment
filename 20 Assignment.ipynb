{
 "cells": [
  {
   "cell_type": "code",
   "execution_count": null,
   "id": "4f19b894-204b-42b6-abd9-60a2befc74f1",
   "metadata": {},
   "outputs": [],
   "source": [
    "Consider following code to answer further questions:\n",
    "import pandas as pd\n",
    "course_name = [‘Data Science’, ‘Machine Learning’, ‘Big Data’, ‘Data Engineer’]\n",
    "duration = [2,3,6,4]\n",
    "df = pd.DataFrame(data = {‘course_name’ : course_name, ‘duration’ : duration})"
   ]
  },
  {
   "cell_type": "code",
   "execution_count": null,
   "id": "7c4d37ef-c493-425f-b9e0-2b950802fc52",
   "metadata": {},
   "outputs": [],
   "source": [
    "Q1. Write a code to print the data present in the second row of the dataframe, df."
   ]
  },
  {
   "cell_type": "code",
   "execution_count": 9,
   "id": "fc5c04dc-f4c5-4c46-a8fc-ce8680f6f86e",
   "metadata": {},
   "outputs": [
    {
     "data": {
      "text/html": [
       "<div>\n",
       "<style scoped>\n",
       "    .dataframe tbody tr th:only-of-type {\n",
       "        vertical-align: middle;\n",
       "    }\n",
       "\n",
       "    .dataframe tbody tr th {\n",
       "        vertical-align: top;\n",
       "    }\n",
       "\n",
       "    .dataframe thead th {\n",
       "        text-align: right;\n",
       "    }\n",
       "</style>\n",
       "<table border=\"1\" class=\"dataframe\">\n",
       "  <thead>\n",
       "    <tr style=\"text-align: right;\">\n",
       "      <th></th>\n",
       "      <th>course_name</th>\n",
       "      <th>duration</th>\n",
       "    </tr>\n",
       "  </thead>\n",
       "  <tbody>\n",
       "    <tr>\n",
       "      <th>0</th>\n",
       "      <td>Data_Science</td>\n",
       "      <td>2</td>\n",
       "    </tr>\n",
       "    <tr>\n",
       "      <th>1</th>\n",
       "      <td>Machine_Learning</td>\n",
       "      <td>3</td>\n",
       "    </tr>\n",
       "    <tr>\n",
       "      <th>2</th>\n",
       "      <td>Big_Data</td>\n",
       "      <td>6</td>\n",
       "    </tr>\n",
       "    <tr>\n",
       "      <th>3</th>\n",
       "      <td>Data_Engineer</td>\n",
       "      <td>4</td>\n",
       "    </tr>\n",
       "  </tbody>\n",
       "</table>\n",
       "</div>"
      ],
      "text/plain": [
       "        course_name  duration\n",
       "0      Data_Science         2\n",
       "1  Machine_Learning         3\n",
       "2          Big_Data         6\n",
       "3     Data_Engineer         4"
      ]
     },
     "execution_count": 9,
     "metadata": {},
     "output_type": "execute_result"
    }
   ],
   "source": [
    "import pandas as pd\n",
    "data={\n",
    "    'course_name':['Data_Science', 'Machine_Learning', 'Big_Data', 'Data_Engineer'],\n",
    "    'duration':[2,3,6,4]}\n",
    "df=pd.DataFrame(data)\n",
    "df"
   ]
  },
  {
   "cell_type": "code",
   "execution_count": 10,
   "id": "4e7eb47f-6fc7-4394-9402-319d5a8dffe0",
   "metadata": {},
   "outputs": [
    {
     "data": {
      "text/plain": [
       "course_name    Machine_Learning\n",
       "duration                      3\n",
       "Name: 1, dtype: object"
      ]
     },
     "execution_count": 10,
     "metadata": {},
     "output_type": "execute_result"
    }
   ],
   "source": [
    "(df.iloc[1])\n"
   ]
  },
  {
   "cell_type": "code",
   "execution_count": null,
   "id": "a2ebb070-b357-4bf9-aa6f-42bdda1bc958",
   "metadata": {},
   "outputs": [],
   "source": [
    "Q2. What is the difference between the functions loc and iloc in pandas.DataFrame?"
   ]
  },
  {
   "cell_type": "code",
   "execution_count": null,
   "id": "a01e8d8a-dca6-482a-9eee-c6a166c34ac5",
   "metadata": {},
   "outputs": [],
   "source": [
    "In pandas, the loc and iloc functions are used for selecting data from a DataFrame, but they differ in how they index data:\n",
    "\n",
    "1.loc\n",
    "Label-Based Indexing: loc is used for label-based indexing. It accesses data using the row and column labels.\n",
    "Includes the End Label: When slicing, loc includes both the start and end labels.\n",
    "\n",
    "\n",
    "2.iloc\n",
    "Integer-Based Indexing: iloc is used for integer-based indexing. It accesses data by integer position.\n",
    "Excludes the End Index: When slicing, iloc excludes the end index."
   ]
  },
  {
   "cell_type": "code",
   "execution_count": null,
   "id": "7ba3e5e1-7b2a-407c-b49b-54403b0ed151",
   "metadata": {},
   "outputs": [],
   "source": [
    "Q3. Reindex the given dataframe using a variable, reindex = [3,0,1,2] and store it in the variable, new_df\n",
    "then find the output for both new_df.loc[2] and new_df.iloc[2].\n",
    "Did you observe any difference in both the outputs? If so then explain it."
   ]
  },
  {
   "cell_type": "code",
   "execution_count": 11,
   "id": "e90cb4ef-6ca8-4a5d-ab57-5a4e6bafd426",
   "metadata": {},
   "outputs": [
    {
     "data": {
      "text/html": [
       "<div>\n",
       "<style scoped>\n",
       "    .dataframe tbody tr th:only-of-type {\n",
       "        vertical-align: middle;\n",
       "    }\n",
       "\n",
       "    .dataframe tbody tr th {\n",
       "        vertical-align: top;\n",
       "    }\n",
       "\n",
       "    .dataframe thead th {\n",
       "        text-align: right;\n",
       "    }\n",
       "</style>\n",
       "<table border=\"1\" class=\"dataframe\">\n",
       "  <thead>\n",
       "    <tr style=\"text-align: right;\">\n",
       "      <th></th>\n",
       "      <th>course_name</th>\n",
       "      <th>duration</th>\n",
       "    </tr>\n",
       "  </thead>\n",
       "  <tbody>\n",
       "    <tr>\n",
       "      <th>0</th>\n",
       "      <td>Data_Science</td>\n",
       "      <td>2</td>\n",
       "    </tr>\n",
       "    <tr>\n",
       "      <th>1</th>\n",
       "      <td>Machine_Learning</td>\n",
       "      <td>3</td>\n",
       "    </tr>\n",
       "    <tr>\n",
       "      <th>2</th>\n",
       "      <td>Big_Data</td>\n",
       "      <td>6</td>\n",
       "    </tr>\n",
       "    <tr>\n",
       "      <th>3</th>\n",
       "      <td>Data_Engineer</td>\n",
       "      <td>4</td>\n",
       "    </tr>\n",
       "  </tbody>\n",
       "</table>\n",
       "</div>"
      ],
      "text/plain": [
       "        course_name  duration\n",
       "0      Data_Science         2\n",
       "1  Machine_Learning         3\n",
       "2          Big_Data         6\n",
       "3     Data_Engineer         4"
      ]
     },
     "execution_count": 11,
     "metadata": {},
     "output_type": "execute_result"
    }
   ],
   "source": [
    "import pandas as pd\n",
    "data={\n",
    "    'course_name':['Data_Science', 'Machine_Learning', 'Big_Data', 'Data_Engineer'],\n",
    "    'duration':[2,3,6,4]}\n",
    "df=pd.DataFrame(data)\n",
    "df"
   ]
  },
  {
   "cell_type": "code",
   "execution_count": 15,
   "id": "95646a12-14f4-4942-85e4-b2f59f0df159",
   "metadata": {},
   "outputs": [],
   "source": [
    "reindex = [3,0,1,2]\n",
    "new_df=df.reindex(reindex)"
   ]
  },
  {
   "cell_type": "code",
   "execution_count": 18,
   "id": "09e03e2f-9db2-4eb4-9998-9e30918729c7",
   "metadata": {},
   "outputs": [
    {
     "data": {
      "text/html": [
       "<div>\n",
       "<style scoped>\n",
       "    .dataframe tbody tr th:only-of-type {\n",
       "        vertical-align: middle;\n",
       "    }\n",
       "\n",
       "    .dataframe tbody tr th {\n",
       "        vertical-align: top;\n",
       "    }\n",
       "\n",
       "    .dataframe thead th {\n",
       "        text-align: right;\n",
       "    }\n",
       "</style>\n",
       "<table border=\"1\" class=\"dataframe\">\n",
       "  <thead>\n",
       "    <tr style=\"text-align: right;\">\n",
       "      <th></th>\n",
       "      <th>course_name</th>\n",
       "      <th>duration</th>\n",
       "    </tr>\n",
       "  </thead>\n",
       "  <tbody>\n",
       "    <tr>\n",
       "      <th>3</th>\n",
       "      <td>Data_Engineer</td>\n",
       "      <td>4</td>\n",
       "    </tr>\n",
       "    <tr>\n",
       "      <th>0</th>\n",
       "      <td>Data_Science</td>\n",
       "      <td>2</td>\n",
       "    </tr>\n",
       "    <tr>\n",
       "      <th>1</th>\n",
       "      <td>Machine_Learning</td>\n",
       "      <td>3</td>\n",
       "    </tr>\n",
       "    <tr>\n",
       "      <th>2</th>\n",
       "      <td>Big_Data</td>\n",
       "      <td>6</td>\n",
       "    </tr>\n",
       "  </tbody>\n",
       "</table>\n",
       "</div>"
      ],
      "text/plain": [
       "        course_name  duration\n",
       "3     Data_Engineer         4\n",
       "0      Data_Science         2\n",
       "1  Machine_Learning         3\n",
       "2          Big_Data         6"
      ]
     },
     "execution_count": 18,
     "metadata": {},
     "output_type": "execute_result"
    }
   ],
   "source": [
    "new"
   ]
  },
  {
   "cell_type": "code",
   "execution_count": 16,
   "id": "66a00fd1-f002-47d6-bca4-6812414ded90",
   "metadata": {},
   "outputs": [
    {
     "data": {
      "text/plain": [
       "course_name    Big_Data\n",
       "duration              6\n",
       "Name: 2, dtype: object"
      ]
     },
     "execution_count": 16,
     "metadata": {},
     "output_type": "execute_result"
    }
   ],
   "source": [
    "new_df.loc[2]"
   ]
  },
  {
   "cell_type": "code",
   "execution_count": 17,
   "id": "fb2e7566-ebb3-4345-a168-d0ed037ec957",
   "metadata": {},
   "outputs": [
    {
     "data": {
      "text/plain": [
       "course_name    Machine_Learning\n",
       "duration                      3\n",
       "Name: 1, dtype: object"
      ]
     },
     "execution_count": 17,
     "metadata": {},
     "output_type": "execute_result"
    }
   ],
   "source": [
    "new_df.iloc[2]"
   ]
  },
  {
   "cell_type": "code",
   "execution_count": null,
   "id": "ca707195-79b2-4fbb-a3da-e19749482858",
   "metadata": {},
   "outputs": [],
   "source": [
    "1.Using loc[2]:\n",
    "\n",
    "new_df.loc[2] accesses the row with the label 2.\n",
    "After reindexing, the label 2 corresponds to the original row with index 2 which is Big Data.\n",
    "\n",
    "2.Using iloc[2]:\n",
    "\n",
    "new_df.iloc[2] accesses the row at the integer position 2 in the DataFrame.\n",
    "This means it accesses the row in the third position (indexing starts from 0) after reindexing."
   ]
  },
  {
   "cell_type": "code",
   "execution_count": null,
   "id": "3aa7b6ad-cdb4-43bb-925a-1bda1267badf",
   "metadata": {},
   "outputs": [],
   "source": [
    "Consider the below code to answer further questions:\n",
    "import pandas as pd\n",
    "import numpy as np\n",
    "columns = ['column_1', 'column_2', 'column_3', 'column_4', 'column_5', 'column_6']\n",
    "indices = [1,2,3,4,5,6]\n",
    "#Creating a dataframe:\n",
    "df1 = pd.DataFrame(np.random.rand(6,6), columns = columns, index = indices)"
   ]
  },
  {
   "cell_type": "code",
   "execution_count": null,
   "id": "78ab30fa-938f-4c04-9a98-a8f5782f465e",
   "metadata": {},
   "outputs": [],
   "source": [
    "Q4. Write a code to find the following statistical measurements for the above dataframe df1:\n",
    "(i) mean of each and every column present in the dataframe.\n",
    "(ii) standard deviation of column, ‘column_2’"
   ]
  },
  {
   "cell_type": "code",
   "execution_count": 9,
   "id": "b7019482-d053-4831-9f0b-f2217f95e62a",
   "metadata": {},
   "outputs": [],
   "source": [
    "import pandas as pd\n",
    "import numpy as np\n",
    "\n",
    "columns = ['column_1', 'column_2', 'column_3', 'column_4', 'column_5', 'column_6']\n",
    "indices = [1, 2, 3, 4, 5, 6]\n",
    "\n",
    "# Creating a DataFrame\n",
    "df1 = pd.DataFrame(np.random.rand(6, 6), columns=columns, index=indices)\n"
   ]
  },
  {
   "cell_type": "code",
   "execution_count": 10,
   "id": "77a24d91-8003-4155-8634-bde7447a195d",
   "metadata": {},
   "outputs": [
    {
     "data": {
      "text/html": [
       "<div>\n",
       "<style scoped>\n",
       "    .dataframe tbody tr th:only-of-type {\n",
       "        vertical-align: middle;\n",
       "    }\n",
       "\n",
       "    .dataframe tbody tr th {\n",
       "        vertical-align: top;\n",
       "    }\n",
       "\n",
       "    .dataframe thead th {\n",
       "        text-align: right;\n",
       "    }\n",
       "</style>\n",
       "<table border=\"1\" class=\"dataframe\">\n",
       "  <thead>\n",
       "    <tr style=\"text-align: right;\">\n",
       "      <th></th>\n",
       "      <th>column_1</th>\n",
       "      <th>column_2</th>\n",
       "      <th>column_3</th>\n",
       "      <th>column_4</th>\n",
       "      <th>column_5</th>\n",
       "      <th>column_6</th>\n",
       "    </tr>\n",
       "  </thead>\n",
       "  <tbody>\n",
       "    <tr>\n",
       "      <th>1</th>\n",
       "      <td>0.766909</td>\n",
       "      <td>0.852719</td>\n",
       "      <td>0.949193</td>\n",
       "      <td>0.272488</td>\n",
       "      <td>0.848362</td>\n",
       "      <td>0.609202</td>\n",
       "    </tr>\n",
       "    <tr>\n",
       "      <th>2</th>\n",
       "      <td>0.963277</td>\n",
       "      <td>0.089432</td>\n",
       "      <td>0.129681</td>\n",
       "      <td>0.171550</td>\n",
       "      <td>0.389974</td>\n",
       "      <td>0.956335</td>\n",
       "    </tr>\n",
       "    <tr>\n",
       "      <th>3</th>\n",
       "      <td>0.232709</td>\n",
       "      <td>0.134958</td>\n",
       "      <td>0.670201</td>\n",
       "      <td>0.518018</td>\n",
       "      <td>0.098758</td>\n",
       "      <td>0.652352</td>\n",
       "    </tr>\n",
       "    <tr>\n",
       "      <th>4</th>\n",
       "      <td>0.659398</td>\n",
       "      <td>0.845325</td>\n",
       "      <td>0.684847</td>\n",
       "      <td>0.454149</td>\n",
       "      <td>0.407966</td>\n",
       "      <td>0.219746</td>\n",
       "    </tr>\n",
       "    <tr>\n",
       "      <th>5</th>\n",
       "      <td>0.170822</td>\n",
       "      <td>0.579673</td>\n",
       "      <td>0.291411</td>\n",
       "      <td>0.307333</td>\n",
       "      <td>0.566013</td>\n",
       "      <td>0.942084</td>\n",
       "    </tr>\n",
       "    <tr>\n",
       "      <th>6</th>\n",
       "      <td>0.149855</td>\n",
       "      <td>0.816588</td>\n",
       "      <td>0.999650</td>\n",
       "      <td>0.165113</td>\n",
       "      <td>0.038341</td>\n",
       "      <td>0.134285</td>\n",
       "    </tr>\n",
       "  </tbody>\n",
       "</table>\n",
       "</div>"
      ],
      "text/plain": [
       "   column_1  column_2  column_3  column_4  column_5  column_6\n",
       "1  0.766909  0.852719  0.949193  0.272488  0.848362  0.609202\n",
       "2  0.963277  0.089432  0.129681  0.171550  0.389974  0.956335\n",
       "3  0.232709  0.134958  0.670201  0.518018  0.098758  0.652352\n",
       "4  0.659398  0.845325  0.684847  0.454149  0.407966  0.219746\n",
       "5  0.170822  0.579673  0.291411  0.307333  0.566013  0.942084\n",
       "6  0.149855  0.816588  0.999650  0.165113  0.038341  0.134285"
      ]
     },
     "execution_count": 10,
     "metadata": {},
     "output_type": "execute_result"
    }
   ],
   "source": [
    "df1"
   ]
  },
  {
   "cell_type": "code",
   "execution_count": 6,
   "id": "05b9f810-7588-4d5b-b264-6c6764d550ea",
   "metadata": {},
   "outputs": [],
   "source": [
    "column_means = df1.mean()"
   ]
  },
  {
   "cell_type": "code",
   "execution_count": 7,
   "id": "9ee97483-f794-4d28-a40d-ab00399bc9de",
   "metadata": {},
   "outputs": [
    {
     "data": {
      "text/plain": [
       "column_1    0.550664\n",
       "column_2    0.561301\n",
       "column_3    0.481031\n",
       "column_4    0.389928\n",
       "column_5    0.486335\n",
       "column_6    0.508850\n",
       "dtype: float64"
      ]
     },
     "execution_count": 7,
     "metadata": {},
     "output_type": "execute_result"
    }
   ],
   "source": [
    "column_means"
   ]
  },
  {
   "cell_type": "code",
   "execution_count": 11,
   "id": "d1ad951e-0c66-4310-8e80-97f3e28023cb",
   "metadata": {},
   "outputs": [],
   "source": [
    "std=df1['column_2'].std()"
   ]
  },
  {
   "cell_type": "code",
   "execution_count": 13,
   "id": "cea48490-17fd-4700-9a23-5858ea7ba648",
   "metadata": {},
   "outputs": [
    {
     "data": {
      "text/plain": [
       "0.3564070871372743"
      ]
     },
     "execution_count": 13,
     "metadata": {},
     "output_type": "execute_result"
    }
   ],
   "source": [
    "std"
   ]
  },
  {
   "cell_type": "code",
   "execution_count": null,
   "id": "400070bc-156c-49f2-9a7a-0ec1f3fb5322",
   "metadata": {},
   "outputs": [],
   "source": [
    "Q5. Replace the data present in the second row of column, ‘column_2’ by a string variable then find the\n",
    "mean of column, column_2.\n",
    "If you are getting errors in executing it then explain why.\n",
    "[Hint: To replace the data use df1.loc[] and equate this to string data of your choice.]"
   ]
  },
  {
   "cell_type": "code",
   "execution_count": 15,
   "id": "e2b93f48-e782-4271-803e-fa87b01c9f3f",
   "metadata": {
    "tags": []
   },
   "outputs": [
    {
     "name": "stdout",
     "output_type": "stream",
     "text": [
      "ERROR unsupported operand type(s) for +: 'float' and 'str'\n"
     ]
    }
   ],
   "source": [
    "import pandas as pd\n",
    "import numpy as np\n",
    "\n",
    "columns = ['column_1', 'column_2', 'column_3', 'column_4', 'column_5', 'column_6']\n",
    "indices = [1, 2, 3, 4, 5, 6]\n",
    "\n",
    "# Creating a DataFrame\n",
    "df1 = pd.DataFrame(np.random.rand(6, 6), columns=columns, index=indices)\n",
    "\n",
    "df1.loc[2,'column_2']='string_value'\n",
    "\n",
    "try:\n",
    "    mean_colum_2=df1['column_2'].mean()\n",
    "    print(mean_colum_2)\n",
    "except Exception as e:\n",
    "    print(\"ERROR\",e)\n",
    "    "
   ]
  },
  {
   "cell_type": "code",
   "execution_count": null,
   "id": "6267bee3-b618-4a5f-b977-05e7d4d1b9e1",
   "metadata": {},
   "outputs": [],
   "source": [
    "The TypeError occurs because Pandas cannot sum a string with numeric values, which is required for calculating the mean. Converting the column to numeric values (with non-numeric values converted to NaN) allows us to calculate the mean of the remaining numeric values."
   ]
  },
  {
   "cell_type": "code",
   "execution_count": null,
   "id": "0a2315a8-adaf-4b01-911d-760a2876886b",
   "metadata": {},
   "outputs": [],
   "source": [
    "Q6. What do you understand about the windows function in pandas and list the types of windows\n",
    "functions?\n",
    "soln:\n",
    "The window functions in pandas provide a way to perform operations on a rolling or expanding basis. These functions are especially useful for time series data and are used to calculate statistics over a specified window of observations.\n",
    "\n",
    "1.Rolling Window Functions (rolling):\n",
    "\n",
    "These functions perform calculations on a sliding window of fixed size.\n",
    "Common methods include:\n",
    "rolling().mean(): Calculate the rolling mean.\n",
    "rolling().sum(): Calculate the rolling sum.\n",
    "rolling().std(): Calculate the rolling standard deviation.\n",
    "rolling().min(): Calculate the rolling minimum.\n",
    "rolling().max(): Calculate the rolling maximum.\n",
    "\n",
    "2.Expanding Window Functions (expanding):\n",
    "\n",
    "These functions perform calculations over an expanding window, which starts with the first observation and includes all previous observations.\n",
    "Common methods include:\n",
    "expanding().mean(): Calculate the expanding mean.\n",
    "expanding().sum(): Calculate the expanding sum.\n",
    "expanding().std(): Calculate the expanding standard deviation.\n",
    "expanding().min(): Calculate the expanding minimum.\n",
    "expanding().max(): Calculate the expanding maximum\n",
    "\n",
    "3.Exponential Moving Window Functions (ewm):\n",
    "\n",
    "These functions perform calculations using exponentially weighted moving averages, which give more weight to recent observations.\n",
    "Common methods include:\n",
    "ewm(span=3).mean(): Calculate the exponentially weighted mean.\n",
    "ewm(span=3).std(): Calculate the exponentially weighted standard deviation.\n",
    "ewm(span=3).var(): Calculate the exponentially weighted variance.\n"
   ]
  },
  {
   "cell_type": "code",
   "execution_count": null,
   "id": "3a8f3074-f51f-4071-80db-5a4c200d2113",
   "metadata": {},
   "outputs": [],
   "source": [
    "Q7. Write a code to print only the current month and year at the time of answering this question.\n",
    "[Hint: Use pandas.datetime function]"
   ]
  },
  {
   "cell_type": "code",
   "execution_count": 25,
   "id": "64a72692-736d-4864-9373-bb6f9040c90e",
   "metadata": {},
   "outputs": [
    {
     "name": "stdout",
     "output_type": "stream",
     "text": [
      "Current month: 8, Current year: 2024\n"
     ]
    }
   ],
   "source": [
    "import pandas as pd\n",
    "from datetime import datetime\n",
    "\n",
    "current_datetime=datetime.now()\n",
    "# Extract the current month and year\n",
    "current_month = current_datetime.month\n",
    "current_year = current_datetime.year\n",
    "\n",
    "# Print the current month and year\n",
    "print(f\"Current month: {current_month}, Current year: {current_year}\")"
   ]
  },
  {
   "cell_type": "code",
   "execution_count": null,
   "id": "a9768304-54da-48bb-b309-60f2a31c04a7",
   "metadata": {},
   "outputs": [],
   "source": [
    "Q8. Write a Python program that takes in two dates as input (in the format YYYY-MM-DD) and\n",
    "calculates the difference between them in days, hours, and minutes using Pandas time delta. The\n",
    "program should prompt the user to enter the dates and display the result."
   ]
  },
  {
   "cell_type": "code",
   "execution_count": 34,
   "id": "8d8713ef-a32f-4e89-9bba-1addc79480dd",
   "metadata": {},
   "outputs": [
    {
     "name": "stdin",
     "output_type": "stream",
     "text": [
      "Enter the first date (YYYY-MM-DD):  2023-01-01\n",
      "Enter the second date (YYYY-MM-DD):  2023-01-02\n"
     ]
    },
    {
     "name": "stdout",
     "output_type": "stream",
     "text": [
      "Difference: 1 days, 0 hours, and 0 minutes\n"
     ]
    }
   ],
   "source": [
    "import pandas as pd\n",
    "def fun_difference(date1,date2):\n",
    "    # Convert the input strings to datetime objects\n",
    "    date1=pd.to_datetime(date1)\n",
    "    date2=pd.to_datetime(date2)\n",
    "     # Calculate the difference\n",
    "    delta=date2-date1\n",
    "    \n",
    "      # Extract days, hours, and minutes from the timedelta\n",
    "    days = delta.days\n",
    "    hours = delta.components.hours\n",
    "    minutes = delta.components.minutes\n",
    "    \n",
    "    # Display the result\n",
    "    print(f\"Difference: {days} days, {hours} hours, and {minutes} minutes\")\n",
    "    \n",
    "    # Prompt the user to enter the dates\n",
    "date1 = input(\"Enter the first date (YYYY-MM-DD): \")\n",
    "date2 = input(\"Enter the second date (YYYY-MM-DD): \")\n",
    "\n",
    "# Calculate and display the difference\n",
    "fun_difference(date1, date2)"
   ]
  },
  {
   "cell_type": "code",
   "execution_count": null,
   "id": "52f85fb6-51ae-462c-9063-ddd8a5388600",
   "metadata": {},
   "outputs": [],
   "source": [
    "Q9. Write a Python program that reads a CSV file containing categorical data and converts a specified\n",
    "column to a categorical data type. The program should prompt the user to enter the file path, column\n",
    "name, and category order, and then display the sorted data."
   ]
  },
  {
   "cell_type": "code",
   "execution_count": 62,
   "id": "bfdc2216-e340-499d-a483-a2700bd3ceed",
   "metadata": {},
   "outputs": [
    {
     "name": "stdin",
     "output_type": "stream",
     "text": [
      "Enter the CSV file path:  taxonomy.csv.csv\n",
      "Enter the column name to convert to categorical:  name\n",
      "Enter the category order (comma-separated):  A,B,C\n"
     ]
    },
    {
     "name": "stdout",
     "output_type": "stream",
     "text": [
      "\n",
      "Available columns in the DataFrame:\n",
      "Index(['taxonomy_id', 'name', 'parent_id', 'parent_name'], dtype='object')\n",
      "\n",
      "Sorted DataFrame:\n",
      "    taxonomy_id name parent_id           parent_name\n",
      "0           101  NaN       NaN                   NaN\n",
      "1        101-01  NaN       101             Emergency\n",
      "2        101-02  NaN       101             Emergency\n",
      "3     101-02-01  NaN    101-02        Emergency Cash\n",
      "4     101-02-02  NaN    101-02        Emergency Cash\n",
      "..          ...  ...       ...                   ...\n",
      "285   111-01-07  NaN    111-01  Advocacy & Legal Aid\n",
      "286      111-02  NaN       111                 Legal\n",
      "287      111-03  NaN       111                 Legal\n",
      "288      111-04  NaN       111                 Legal\n",
      "289      111-05  NaN       111                 Legal\n",
      "\n",
      "[290 rows x 4 columns]\n"
     ]
    }
   ],
   "source": [
    "import pandas as pd\n",
    "\n",
    "def process_categorical_data():\n",
    "    \n",
    "        # Prompt user for inputs\n",
    "        file_path = input(\"Enter the CSV file path: \")\n",
    "        column_name = input(\"Enter the column name to convert to categorical: \")\n",
    "        category_order = input(\"Enter the category order (comma-separated): \").split(',')\n",
    "        \n",
    "        # Read the CSV file into a DataFrame\n",
    "        df = pd.read_csv(file_path)\n",
    "        \n",
    "        # Print the DataFrame columns to help the user identify the correct column name\n",
    "        print(\"\\nAvailable columns in the DataFrame:\")\n",
    "        print(df.columns)\n",
    "        \n",
    "        # Check if the column exists in the DataFrame\n",
    "        if column_name not in df.columns:\n",
    "            print(f\"Error: Column '{column_name}' does not exist in the DataFrame.\")\n",
    "            return\n",
    "        \n",
    "        # Convert the specified column to a categorical data type with the given category order\n",
    "        df[column_name] = pd.Categorical(df[column_name], categories=category_order, ordered=True)\n",
    "        \n",
    "        # Sort the DataFrame based on the categorical column\n",
    "        df_sorted = df.sort_values(by=column_name)\n",
    "        \n",
    "        # Display the sorted DataFrame\n",
    "        print(\"\\nSorted DataFrame:\")\n",
    "        print(df_sorted)\n",
    "    \n",
    "   \n",
    "        \n",
    "# Call the function\n",
    "process_categorical_data()\n"
   ]
  },
  {
   "cell_type": "code",
   "execution_count": null,
   "id": "e8447f13-7166-4b11-94c5-81cdb564f09b",
   "metadata": {},
   "outputs": [],
   "source": [
    "Q10. Write a Python program that reads a CSV file containing sales data for different products and\n",
    "visualizes the data using a stacked bar chart to show the sales of each product category over time. The\n",
    "program should prompt the user to enter the file path and display the chart."
   ]
  },
  {
   "cell_type": "code",
   "execution_count": 71,
   "id": "bfa28294-cffb-42c2-b4b7-ba173275d287",
   "metadata": {},
   "outputs": [],
   "source": [
    "import pandas as pd\n",
    "def visualize_sales_data():\n",
    "     # Prompt user for file path\n",
    "        file_path = input(\"Enter the CSV file path: \")\n",
    "        \n",
    "        # Read the CSV file into a DataFrame\n",
    "        df = pd.read_csv(file_path)\n",
    "        \n",
    "        # Print the DataFrame to understand its structure\n",
    "        print(\"\\nDataFrame preview:\")\n",
    "        print(df.head())\n",
    "        \n",
    "        # Convert 'Date' column to datetime\n",
    "        df['Date'] = pd.to_datetime(df['Date'])\n",
    "          # Pivot the DataFrame to prepare data for stacked bar chart\n",
    "        \n",
    "        \n",
    "        # Plotting using Pandas built-in plot function\n",
    "        df.plot.bar(x='Date',y='Sales')\n",
    "        \n",
    "        \n",
    "        "
   ]
  },
  {
   "cell_type": "code",
   "execution_count": 72,
   "id": "0530cb25-7a74-44e2-a849-7039dd817dea",
   "metadata": {},
   "outputs": [
    {
     "name": "stdin",
     "output_type": "stream",
     "text": [
      "Enter the CSV file path:  sale_data.csv\n"
     ]
    },
    {
     "name": "stdout",
     "output_type": "stream",
     "text": [
      "\n",
      "DataFrame preview:\n",
      "         Date Product_Category  Sales\n",
      "0  2023-01-01      Electronics    150\n",
      "1  2023-01-01         Clothing    200\n",
      "2  2023-01-02      Electronics    175\n",
      "3  2023-01-02         Clothing    180\n",
      "4  2023-01-03      Electronics    200\n"
     ]
    },
    {
     "data": {
      "image/png": "[encoded data removed]",
      "text/plain": [
       "<Figure size 640x480 with 1 Axes>"
      ]
     },
     "metadata": {},
     "output_type": "display_data"
    }
   ],
   "source": [
    "visualize_sales_data()"
   ]
  },
  {
   "cell_type": "code",
   "execution_count": null,
   "id": "784b06a2-6ede-4d4f-bc6e-e57a495f1474",
   "metadata": {},
   "outputs": [],
   "source": [
    "Q11. You are given a CSV file containing student data that includes the student ID and their test score. Write\n",
    "a Python program that reads the CSV file, calculates the mean, median, and mode of the test scores, and\n",
    "displays the results in a table.\n",
    "The program should do the followingM\n",
    "I Prompt the user to enter the file path of the CSV file containing the student dataR\n",
    "I Read the CSV file into a Pandas DataFrameR\n",
    "I Calculate the mean, median, and mode of the test scores using Pandas toolsR\n",
    "I Display the mean, median, and mode in a table.\n",
    "Assume the CSV file contains the following columnsM\n",
    "I Student ID: The ID of the studentR\n",
    "I Test Score: The score of the student's test.\n",
    "Example usage of the program:\n",
    "Enter the file path of the CSV file containing the student data: student_data.csv\n",
    "+-----------+--------+\n",
    "| Statistic | Value |\n",
    "+-----------+--------+\n",
    "| Mean | 79.6 |\n",
    "| Median | 82 |\n",
    "| Mode | 85, 90 |\n",
    "+-----------+--------+\n",
    "Assume that the CSV file student_data.csv contains the following data:\n",
    "Student ID,Test Score\n",
    "1,85\n",
    "2,90\n",
    "3,80\n",
    "4,75\n",
    "5,85\n",
    "6,82\n",
    "7,78\n",
    "8,85\n",
    "9,90\n",
    "10,85\n",
    "The program should calculate the mean, median, and mode of the test scores and display the results\n",
    "in a table."
   ]
  },
  {
   "cell_type": "code",
   "execution_count": 79,
   "id": "53f596ac-2230-4c40-93fd-f177509b0338",
   "metadata": {},
   "outputs": [],
   "source": [
    "import pandas as pd\n",
    "def calculate_fun():\n",
    "    \n",
    "    file_path=input(\"enter the file_path:\")\n",
    "    \n",
    "    # Read the CSV file into a DataFrame\n",
    "    df = pd.read_csv(file_path)\n",
    "    \n",
    "    mean = df['Test Score'].mean()\n",
    "    median = df['Test Score'].median()\n",
    "    mode = list(df['Test Score'].mode())\n",
    "    \n",
    "    print(f\"Mean: {mean:.2f}\")\n",
    "    print(f\"Median: {median:.2f}\")\n",
    "    print(f\"Mode: {', '.join(map(str, mode))}\")\n",
    "    \n",
    "   "
   ]
  },
  {
   "cell_type": "code",
   "execution_count": 80,
   "id": "f34b936e-6073-42e5-a849-aab1b167777b",
   "metadata": {},
   "outputs": [
    {
     "name": "stdin",
     "output_type": "stream",
     "text": [
      "enter the file_path: student_data.csv\n"
     ]
    },
    {
     "name": "stdout",
     "output_type": "stream",
     "text": [
      "Mean: 83.50\n",
      "Median: 85.00\n",
      "Mode: 85\n"
     ]
    }
   ],
   "source": [
    "calculate_fun()"
   ]
  },
  {
   "cell_type": "code",
   "execution_count": null,
   "id": "963c04e3-2b70-48bd-931c-199ae4f5b026",
   "metadata": {},
   "outputs": [],
   "source": []
  }
 ],
 "metadata": {
  "kernelspec": {
   "display_name": "Python 3 (ipykernel)",
   "language": "python",
   "name": "python3"
  },
  "language_info": {
   "codemirror_mode": {
    "name": "ipython",
    "version": 3
   },
   "file_extension": ".py",
   "mimetype": "text/x-python",
   "name": "python",
   "nbconvert_exporter": "python",
   "pygments_lexer": "ipython3",
   "version": "3.10.8"
  }
 },
 "nbformat": 4,
 "nbformat_minor": 5
}
