{
 "cells": [
  {
   "cell_type": "code",
   "execution_count": null,
   "id": "fe89bea3-e1d5-47b9-bb2e-c7de7ef718f5",
   "metadata": {},
   "outputs": [],
   "source": [
    "Q1. What is Statistics?"
   ]
  },
  {
   "cell_type": "code",
   "execution_count": null,
   "id": "6be921dc-fbb5-4278-b935-46aa6060e7c1",
   "metadata": {},
   "outputs": [],
   "source": [
    "soln:Statistics is the study of collecting, analyzing, and interpreting data to make informed decisions and predictions. It involves summarizing data, identifying patterns, and drawing conclusions from data sets."
   ]
  },
  {
   "cell_type": "code",
   "execution_count": null,
   "id": "414a147a-0a80-494c-92f4-284fb23d3262",
   "metadata": {},
   "outputs": [],
   "source": [
    "Q2. Define the different types of statistics and give an example of when each type might be used."
   ]
  },
  {
   "cell_type": "code",
   "execution_count": null,
   "id": "f9f18595-c4ba-45f1-8af5-2b050ed886de",
   "metadata": {},
   "outputs": [],
   "source": [
    "1.Descriptive Statistics: This type involves summarizing and organizing data to describe its main features. It includes measures such as mean, median, mode, and standard deviation.\n",
    "\n",
    "Example: A teacher might use descriptive statistics to summarize the test scores of a class, showing the average score, the highest and lowest scores, and how scores are distributed.\n",
    "\n",
    "2.Inferential Statistics: This type involves making predictions or generalizations about a population based on a sample of data. It includes hypothesis testing, confidence intervals, and regression analysis.\n",
    "\n",
    "Example: A medical researcher might use inferential statistics to determine whether a new drug is effective, by analyzing data from a sample of patients and making conclusions about its effectiveness for the larger population."
   ]
  },
  {
   "cell_type": "code",
   "execution_count": null,
   "id": "74e87f8f-8f72-4664-9e1c-db7f4f1b538f",
   "metadata": {},
   "outputs": [],
   "source": [
    "Q3. What are the different types of data and how do they differ from each other? Provide an example of\n",
    "each type of data."
   ]
  },
  {
   "cell_type": "code",
   "execution_count": null,
   "id": "858e0458-d50e-48b9-9ae4-3ee8a0a3d6e6",
   "metadata": {},
   "outputs": [],
   "source": [
    "solN:\n",
    "1.Qualitative Data (Categorical Data): This type of data describes categories or groups and is often non-numeric. It includes:\n",
    "\n",
    ".Nominal Data: Categories without a natural order or ranking.\n",
    "Example: Types of fruit (e.g., apple, banana, cherry).\n",
    ".Ordinal Data: Categories with a meaningful order or ranking, but the intervals between ranks are not necessarily equal.\n",
    "Example: Satisfaction ratings (e.g., very dissatisfied, dissatisfied, neutral, satisfied, very satisfied).\n",
    "\n",
    "2.Quantitative Data (Numerical Data): This type of data involves numbers and can be measured or counted. It includes:\n",
    "\n",
    ".Discrete Data: Counts or whole numbers that represent items or occurrences.\n",
    "Example: Number of students in a classroom (e.g., 25 students).\n",
    ".Continuous Data: Measurements that can take any value within a range and are often obtained through measurements.\n",
    "Example: Height of individuals (e.g., 175.3 cm, 180.6 cm)."
   ]
  },
  {
   "cell_type": "code",
   "execution_count": null,
   "id": "47bf90cd-6675-4933-bf41-9ce85cbb2cf7",
   "metadata": {},
   "outputs": [],
   "source": [
    "Q4. Categorise the follow\n",
    "ing datasets with respect to quantitative and qualitative data types:\n",
    "(i) Grading in exam: A+, A, B+, B, C+, C, D, E\n",
    "(ii) Colour of mangoes: yellow, green, orange, red\n",
    "(iii) Height data of a class: [178.9, 179, 179.5, 176, 177.2, 178.3, 175.8,...]\n",
    "(iv) Number of mangoes exported by a farm: [500, 600, 478, 672, ...]"
   ]
  },
  {
   "cell_type": "code",
   "execution_count": null,
   "id": "bd50a88a-9529-4e9a-a267-eb92ee23c34f",
   "metadata": {},
   "outputs": [],
   "source": [
    "soln:(i)Type:Qualitative Data\n",
    "subtype:ordinal\n",
    "\n",
    "(ii)Type:Qualitative Data\n",
    "subtype:Nominal\n",
    "\n",
    "(iii)Type:Quantitative Data\n",
    "subtype:continous\n",
    "\n",
    "(iii)Type:Quantitative Data\n",
    "subtype:discrete\n",
    "\n"
   ]
  },
  {
   "cell_type": "code",
   "execution_count": null,
   "id": "2729d916-dee7-4bb3-acf5-5184fd7e94c3",
   "metadata": {},
   "outputs": [],
   "source": [
    "Q5. Explain the concept of levels of measurement and give an example of a variable for each level.\n",
    "soln:The levels of measurement describe how data is classified and quantified, impacting the types of statistical analysis that can be performed. Here’s an overview of each level with examples:"
   ]
  },
  {
   "cell_type": "code",
   "execution_count": null,
   "id": "7079dbc4-e901-4d1a-a8d2-fbd0a475f3e9",
   "metadata": {},
   "outputs": [],
   "source": [
    "1.Nominal Level:\n",
    "\n",
    "Concept: Data is categorized into distinct groups without any inherent order. Each category is unique but does not imply any ranking or hierarchy.\n",
    "Example: Gender (e.g., male, female, non-binary). The categories represent different groups with no implied order.\n",
    "\n",
    "2.Ordinal Level:\n",
    "\n",
    "Concept: Data is categorized into groups with a meaningful order or ranking, but the intervals between categories are not necessarily equal.\n",
    "Example: Education Level (e.g., high school, bachelor’s degree, master’s degree, doctoral degree). The categories have a clear ranking, but the difference in education level between high school and a bachelor’s degree is not necessarily equal to the difference between a master’s degree and a doctoral degree.\n",
    "\n",
    "3.Interval Level:\n",
    "\n",
    "Concept: Data is ordered, with equal intervals between values, but there is no true zero point. Differences between values are meaningful, but ratios are not.\n",
    "Example: Temperature in Celsius (e.g., 10°C, 20°C, 30°C). The intervals between temperatures are equal (e.g., the difference between 10°C and 20°C is the same as between 20°C and 30°C), but 0°C does not represent a total absence of temperature.\n",
    "\n",
    "4.Concept: Data has a meaningful order, equal intervals, and a true zero point, allowing for the calculation of meaningful ratios. This is the most precise level of measurement.\n",
    "Example: Height (e.g., 150 cm, 170 cm, 190 cm). Heights have a true zero (0 cm represents no height), and ratios are meaningful (e.g., 180 cm is 1.5 times taller than 120 cm)"
   ]
  },
  {
   "cell_type": "code",
   "execution_count": null,
   "id": "bf78858b-a56a-4710-9d39-0b285feef76a",
   "metadata": {},
   "outputs": [],
   "source": [
    "Q6. Why is it important to understand the level of measurement when analyzing data? Provide an\n",
    "example to illustrate your answer."
   ]
  },
  {
   "cell_type": "code",
   "execution_count": null,
   "id": "9cacec3f-13c5-4d8f-85bb-147e342c4e97",
   "metadata": {},
   "outputs": [],
   "source": [
    "\n",
    "Understanding the level of measurement is crucial because it dictates which statistical methods are appropriate and how data can be accurately analyzed and interpreted. Using the wrong method can lead to incorrect conclusions."
   ]
  },
  {
   "cell_type": "code",
   "execution_count": null,
   "id": "922e7348-862f-4b88-b326-50ec63130f74",
   "metadata": {},
   "outputs": [],
   "source": [
    "Example:\n",
    "    Imagine you have two types of data from a survey:\n",
    "\n",
    "1.Customer Satisfaction Ratings (Ordinal): Poor, Fair, Good, Excellent.\n",
    "2.Test Scores (Interval): 55, 65, 75, 85.\n",
    ".For Customer Satisfaction Ratings: You can rank the responses but cannot calculate a meaningful average because the intervals between categories are not equal. You might use non-parametric tests like the Mann-Whitney U test to compare satisfaction levels.\n",
    "\n",
    ".For Test Scores: You can calculate the mean and standard deviation because the intervals between scores are equal. This allows for detailed analysis like comparing average scores using a t-test."
   ]
  },
  {
   "cell_type": "code",
   "execution_count": null,
   "id": "9efb426b-1b80-4b6f-9e82-328fe65358e5",
   "metadata": {},
   "outputs": [],
   "source": [
    "Q7. How nominal data type is different from ordinal data type."
   ]
  },
  {
   "cell_type": "code",
   "execution_count": null,
   "id": "582b86fb-7347-4b8a-be9e-cb59d4d7c357",
   "metadata": {},
   "outputs": [],
   "source": [
    "Nominal Data and Ordinal Data are both types of categorical data but differ in how they organize and interpret information:\n",
    "\n",
    "1.Nominal Data:\n",
    "\n",
    "Definition: Categories without any intrinsic order or ranking.\n",
    "Characteristics: Data is used for labeling or naming without implying any quantitative value or sequence.\n",
    "Example: Types of Fruit (Apple, Banana, Cherry). The categories represent different types without any order.\n",
    "\n",
    "2.Ordinal Data:\n",
    "\n",
    "Definition: Categories with a meaningful order or ranking.\n",
    "Characteristics: Data shows a sequence or rank, but the intervals between categories are not necessarily equal.\n",
    "Example: Education Levels (High School, Bachelor’s Degree, Master’s Degree). The categories have a clear order, but the differences between the levels are not uniformly measurable."
   ]
  },
  {
   "cell_type": "code",
   "execution_count": null,
   "id": "e711fa4b-2d4a-41ed-b2db-41e3ff39eca8",
   "metadata": {},
   "outputs": [],
   "source": [
    "Q8. Which type of plot can be used to display data in terms of range?"
   ]
  },
  {
   "cell_type": "code",
   "execution_count": null,
   "id": "a064d1f2-6703-45e6-a3bf-0957ee7c19d9",
   "metadata": {},
   "outputs": [],
   "source": [
    "\n",
    "To display data in terms of range, box plots (or box-and-whisker plots) are highly effective.\n",
    "\n",
    "Box Plot:\n",
    "\n",
    ".Purpose: Shows the distribution of data based on a five-number summary: minimum, first quartile (Q1), median, third quartile (Q3), and maximum.\n",
    ".Range Representation: The length of the box (from Q1 to Q3) represents the interquartile range (IQR), and the \"whiskers\" extend to the minimum and maximum values, indicating the overall range of the data.\n",
    ".Example: A box plot can display the test scores of a class, showing the range from the lowest to the highest score, along with the spread and central tendency of the scores.\n",
    "\n",
    "Box plots are particularly useful for visualizing the spread and variability of the data, identifying outliers, and comparing distributions between different groups."
   ]
  },
  {
   "cell_type": "code",
   "execution_count": null,
   "id": "95502c95-fdb3-4464-9949-c10d8829828b",
   "metadata": {},
   "outputs": [],
   "source": [
    "Q9. Describe the difference between descriptive and inferential statistics. Give an example of each\n",
    "type of statistics and explain how they are used.\n"
   ]
  },
  {
   "cell_type": "code",
   "execution_count": null,
   "id": "965e4c40-3cec-44d0-981d-9cb5d4ba93dd",
   "metadata": {},
   "outputs": [],
   "source": [
    "\n",
    "Descriptive Statistics and Inferential Statistics are two main branches of statistics, each serving a different purpose:\n",
    "\n",
    "1.Descriptive Statistics:\n",
    ".Purpose: Summarizes and describes the main features of a dataset. It provides a clear and concise summary of the data.\n",
    ".Tools: Measures of central tendency (mean, median, mode), measures of variability (range, variance, standard deviation), and data visualization (histograms, box plots).\n",
    ".Example: Suppose you have a dataset of exam scores for a class. Descriptive statistics would involve calculating the average score, the median score, and the standard deviation to summarize the overall performance. You might also use a histogram to visualize the distribution of scores.\n",
    "\n",
    "\n",
    "2.Inferential Statistics:\n",
    "Purpose: Makes generalizations or predictions about a population based on a sample of data. It uses probability theory to infer conclusions and test hypotheses.\n",
    "Tools: Hypothesis testing, confidence intervals, regression analysis, ANOVA (Analysis of Variance).\n",
    "Example: Suppose you want to know if a new teaching method is more effective than the traditional method. You might conduct an experiment with two groups (one using the new method and the other using the traditional method), analyze the results using inferential statistics to determine if there is a significant difference in test scores between the two groups, and make predictions about the effectiveness of the teaching method for the broader population."
   ]
  },
  {
   "cell_type": "code",
   "execution_count": null,
   "id": "ce97e28f-dba2-4357-a0d9-6f9fb1e11cfc",
   "metadata": {},
   "outputs": [],
   "source": [
    "Q10. What are some common measures of central tendency and variability used in statistics? Explain\n",
    "how each measure can be used to describe a dataset."
   ]
  },
  {
   "cell_type": "code",
   "execution_count": null,
   "id": "f4d324a0-489e-4ae1-8415-209568f5d0b4",
   "metadata": {},
   "outputs": [],
   "source": [
    "1.Measures of Central Tendency:\n",
    "\n",
    ".Mean: Average of all values.\n",
    "Example: Scores of 70, 80, 85, and 90 have a mean of 81.25.\n",
    "\n",
    ".Median: Middle value when ordered.\n",
    "Example: Scores of 70, 80, 85, and 90 have a median of 82.5.\n",
    "\n",
    ".Mode: Most frequent value.\n",
    "Example: In scores of 70, 80, 80, and 90, the mode is 80.\n",
    "\n",
    "2.Measures of Variability:\n",
    "\n",
    ".Range: Difference between the maximum and minimum values.\n",
    "Example: Scores of 70, 80, 85, and 90 have a range of 20.\n",
    "\n",
    ".Variance: Average of squared differences from the mean.\n",
    "Example: For the scores, variance measures how spread out they are from the mean.\n",
    "\n",
    ".Standard Deviation: Square root of the variance, showing average distance from the mean.\n",
    "Example: For the scores, the standard deviation tells how much scores vary around the mean."
   ]
  }
 ],
 "metadata": {
  "kernelspec": {
   "display_name": "Python 3 (ipykernel)",
   "language": "python",
   "name": "python3"
  },
  "language_info": {
   "codemirror_mode": {
    "name": "ipython",
    "version": 3
   },
   "file_extension": ".py",
   "mimetype": "text/x-python",
   "name": "python",
   "nbconvert_exporter": "python",
   "pygments_lexer": "ipython3",
   "version": "3.10.8"
  }
 },
 "nbformat": 4,
 "nbformat_minor": 5
}
